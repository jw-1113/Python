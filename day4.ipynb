{
 "cells": [
  {
   "cell_type": "code",
   "execution_count": 22,
   "id": "aae86a6f-5af3-46d8-9531-95bf1e31ee4e",
   "metadata": {},
   "outputs": [
    {
     "name": "stdout",
     "output_type": "stream",
     "text": [
      "True\n",
      "False\n"
     ]
    }
   ],
   "source": [
    "# 함수\n",
    "# 반복되는 기능\n",
    "\n",
    "# close10\n",
    "# 완전수\n",
    "\n",
    "# 1. is_divisor(num1, num2)\n",
    "# 만약, num2가 num1의 약수라면\n",
    "\n",
    "# 함수 정의\n",
    "# 함수 이름에 is -> 반환 값 논리형\n",
    "# 함수 이름에 is -> 논리형 데이터\n",
    "def is_divisor(a : int , b : int ) -> bool:\n",
    "    \"\"\"a가 b의 약수인지 판별\"\"\" # docstring ( Shift + Tab)\n",
    "    return a % b == 0\n",
    "    \n",
    "    # if a % b == 0:\n",
    "    #     return True\n",
    "    # else:\n",
    "    #     return False\n",
    "\n",
    "print(is_divisor(10,2)) # True\n",
    "print(is_divisor(10,3)) # False\n",
    "# is_divisor"
   ]
  },
  {
   "cell_type": "code",
   "execution_count": 27,
   "id": "e5c41597-b1f0-4093-9a43-0899605f0e51",
   "metadata": {},
   "outputs": [
    {
     "name": "stdout",
     "output_type": "stream",
     "text": [
      "10의 약수 : 1 2 5 10 \n",
      "12의 약수 : 1 2 3 4 6 12 \n"
     ]
    }
   ],
   "source": [
    "# 2. 약수를 전부 출력\n",
    "# print_divisors(num)\n",
    "# 만약, num이 10이라면\n",
    "# 10의 약수 : 1 2 5 10\n",
    "# 만약, num이 12라면\n",
    "# 12의 약수 : 1 2 3 4 6 12\n",
    "\n",
    "# 함수\n",
    "def print_divisors(num : int):\n",
    "    # num이 10이라면???\n",
    "    print(f\"{num}의 약수 : \", end=\"\")\n",
    "\n",
    "    for i in range(1, num + 1):\n",
    "        if num % i == 0:\n",
    "            print(i, end=\" \")\n",
    "    print()\n",
    "print_divisors(10)\n",
    "print_divisors(12)"
   ]
  },
  {
   "cell_type": "code",
   "execution_count": 50,
   "id": "c78eb3e6-27d1-4236-867d-4054b0aeef21",
   "metadata": {},
   "outputs": [
    {
     "name": "stdout",
     "output_type": "stream",
     "text": [
      "18\n",
      "28\n"
     ]
    }
   ],
   "source": [
    "# 3. 약수의 총합!!\n",
    "# get_sum_of_divisors(num)\n",
    "\n",
    "def get_sum_of_divisors(num):\n",
    "    total = 0\n",
    "    for i in range(1, num + 1):\n",
    "        if num % i == 0:\n",
    "            total += i\n",
    "    print(total)\n",
    "\n",
    "get_sum_of_divisors(10) # 18 출력!!\n",
    "get_sum_of_divisors(12) # 28 출력!!\n",
    "\n"
   ]
  },
  {
   "cell_type": "code",
   "execution_count": 80,
   "id": "72b9d597-8386-4694-bff3-3e280a6e433c",
   "metadata": {},
   "outputs": [
    {
     "name": "stdout",
     "output_type": "stream",
     "text": [
      "False\n",
      "False\n",
      "True\n"
     ]
    }
   ],
   "source": [
    "# 4. 완전수를 판별하는 함수\n",
    "# is_perfect_number(num)\n",
    "# 만약, num이 완전수라면 -> True\n",
    "# 완전수가 아니라면 -> False\n",
    "\n",
    "# 완전수(perfect number)란?\n",
    "# 자기 자신을 제외한 양의 약수의 합이 \n",
    "# 다시 자기 자신이 되는 수!!!\n",
    "# 10 : 1 + 2 + 5 = 8이므로 (X)\n",
    "# 12 : 1 + 2 + 3 + 4 + 6 = 16 (X)\n",
    "# 28 : 1 + 2 + 4 + 7 + 14 = 28 (O)\n",
    "\n",
    "def is_perfect_number(num):\n",
    "    total = 0\n",
    "    for i in range(1, num + 1):\n",
    "        if num % i == 0:\n",
    "            total += i\n",
    "    if total == num * 2:\n",
    "        return True\n",
    "    else:\n",
    "         return False\n",
    "                \n",
    "print(is_perfect_number(10)) # False\n",
    "print(is_perfect_number(12)) # False\n",
    "print(is_perfect_number(28)) # True"
   ]
  },
  {
   "cell_type": "code",
   "execution_count": 77,
   "id": "72639167-477e-40ac-9eec-b1e950d4f1cc",
   "metadata": {},
   "outputs": [
    {
     "name": "stdout",
     "output_type": "stream",
     "text": [
      "3번째 완전수: 496\n",
      "496의 약수 : 1 2 4 8 16 31 62 124 248 496 \n",
      "4번째 완전수: 8128\n",
      "8128의 약수 : 1 2 4 8 16 32 64 127 254 508 1016 2032 4064 8128 \n"
     ]
    }
   ],
   "source": [
    "# 5. 그 다음 오는 완전수를 구해보자!!\n",
    "# 1번째 완전수 : 6 (1 + 2 + 3)\n",
    "# 2번째 완전수 : 28 (1 + 2 + 4 + 7 + 14)\n",
    "# 3번째 완전수 : ??? (세 자리 수)\n",
    "# 4번째 완전수 : ???? (네 자리 수)\n",
    "\n",
    "# 3번째 완전수\n",
    "# 4번째 완전수\n",
    "\n",
    "# 단, 5번째 완전수 : 8자리여서\n",
    "# 우리 로직으로 해결 X\n",
    "\n",
    "for i in range(100,1000):\n",
    "    if is_perfect_number(i):\n",
    "        print(\"3번째 완전수: {}\".format(i))\n",
    "print_divisors(496)\n",
    "\n",
    "for i in range(1000,10000):\n",
    "    if is_perfect_number(i):\n",
    "        print(\"4번째 완전수: {}\".format(i))\n",
    "print_divisors(8128)"
   ]
  },
  {
   "cell_type": "code",
   "execution_count": null,
   "id": "7aa460ab-489f-4050-a5de-9829b10c66f3",
   "metadata": {},
   "outputs": [],
   "source": []
  },
  {
   "cell_type": "code",
   "execution_count": 163,
   "id": "39e9c446-6cb9-49a3-89cc-017a9e8aa734",
   "metadata": {},
   "outputs": [
    {
     "name": "stderr",
     "output_type": "stream",
     "text": [
      "100%|███████████████████████████████████████████████████████████████████████████| 90000/90000 [03:21<00:00, 445.96it/s]\n"
     ]
    }
   ],
   "source": [
    "# 5번째 완전수를 구하기 위해\n",
    "# 5자리 아닐까?\n",
    "from tqdm import tqdm\n",
    "\n",
    "for i in tqdm(range(10000,100000)):\n",
    "    if is_perfect_number(i):\n",
    "        print(i)"
   ]
  },
  {
   "cell_type": "code",
   "execution_count": null,
   "id": "c28fb76c-296d-4dac-a38a-5a13da873999",
   "metadata": {},
   "outputs": [],
   "source": []
  },
  {
   "cell_type": "code",
   "execution_count": 88,
   "id": "27366be3-ca86-44b9-b52c-f9fe225f1c03",
   "metadata": {},
   "outputs": [
    {
     "data": {
      "text/plain": [
       "10"
      ]
     },
     "execution_count": 88,
     "metadata": {},
     "output_type": "execute_result"
    }
   ],
   "source": [
    "# 가변 매개변수\n",
    "def add_number(*args):\n",
    "    result = 0\n",
    "    for num in args:\n",
    "        result += num\n",
    "    return result\n",
    "\n",
    "add_number(1,2,3,4)"
   ]
  },
  {
   "cell_type": "code",
   "execution_count": 91,
   "id": "8e7e7ad6-ae2e-407f-83e4-bea9d94230c8",
   "metadata": {},
   "outputs": [
    {
     "name": "stdout",
     "output_type": "stream",
     "text": [
      "(15, 5)\n"
     ]
    }
   ],
   "source": [
    "def cal_number(num1, num2):\n",
    "    return num1 + num2, num1 - num2\n",
    "\n",
    "print(cal_number(10,5))\n",
    "\n",
    "# 함수의 리턴값이 2개이다 (X)\n",
    "# 함수의 리턴값이 반드시 1개 (튜플)"
   ]
  },
  {
   "cell_type": "code",
   "execution_count": 97,
   "id": "872a815a-6640-47b4-a768-6439b602f8f5",
   "metadata": {},
   "outputs": [
    {
     "name": "stdout",
     "output_type": "stream",
     "text": [
      "32\n",
      "25\n"
     ]
    }
   ],
   "source": [
    "# 함수의 기본 값 설정\n",
    "\n",
    "def my_pow(num1, num2=2): # 기본값 2로 설정\n",
    "    result = 1\n",
    "    for _ in range(num2):\n",
    "        result *= num1\n",
    "    return result\n",
    "\n",
    "print(my_pow(2,5))\n",
    "print(my_pow(5))"
   ]
  },
  {
   "cell_type": "code",
   "execution_count": 102,
   "id": "ed9a3eb4-369d-4980-9af2-3574613689f1",
   "metadata": {},
   "outputs": [
    {
     "name": "stdout",
     "output_type": "stream",
     "text": [
      "15\n",
      "20\n"
     ]
    }
   ],
   "source": [
    "# 모듈화\n",
    "# 같은경로\n",
    "# 함수, 클래스 -> 간단하게 .py만들어서 배포 -> import\n",
    "import cal\n",
    "print(cal.add(10,5))\n",
    "\n",
    "from cal import add\n",
    "print(add(10, 10))"
   ]
  },
  {
   "cell_type": "code",
   "execution_count": 116,
   "id": "fba69045-ec21-471b-a7df-e297c6f11b40",
   "metadata": {},
   "outputs": [],
   "source": [
    "# 객체 지향 프로그래밍(Object Oriented Programming)\n",
    "# 독립된객체들 간의 메세지를 주고 받음으로써 프로그램을 구성하는 방식\n",
    "\n",
    "# 객체의 설계도 : class\n",
    "\n",
    "# class 클래스명(대문자): # 한글 or 소문자도 가능\n",
    "    # data\n",
    "    # logic\n",
    "\n",
    "# 1) 추상화(Abastraction)\n",
    "# - 객체의 공통적인 속성을 추출하는 행위\n",
    "\n",
    "class Clock:\n",
    "    # data\n",
    "    hour = 11 # 시\n",
    "    minute = 40 # 분\n",
    "    second = 50 # 초\n",
    "\n",
    "    #logic\n",
    "    # self : 클래스 이름을 반환!\n",
    "    # 클래스 내 함수 정의 시 첫 번째 매개변수로 설정!\n",
    "    # 클래스 내 변수 호출 시 self.변수이름\n",
    "    def show_time(self):\n",
    "        print(f\"{self.hour}시 {self.minute}분 {self.second}초\")\n",
    "        "
   ]
  },
  {
   "cell_type": "code",
   "execution_count": 111,
   "id": "ebbdc1b4-ef55-43c9-aa0a-e1067cfac870",
   "metadata": {},
   "outputs": [
    {
     "name": "stdout",
     "output_type": "stream",
     "text": [
      "11시 40분 50초\n"
     ]
    }
   ],
   "source": [
    "나만의시계 = Clock() # 클래스 불러오기\n",
    "나만의시계.show_time()"
   ]
  },
  {
   "cell_type": "code",
   "execution_count": 109,
   "id": "e4c6761a-7348-488f-8b59-e4d38db9132e",
   "metadata": {},
   "outputs": [],
   "source": [
    "class Banana:\n",
    "    color = \"노랗다\"\n",
    "    species = \"과일\"\n",
    "\n",
    "    def who_many_eat(self):\n",
    "        print(\"원숭이\")\n",
    "    def how_eat(self):\n",
    "        print(\"껍질을 벗겨서\")\n",
    "\n",
    "    def show_info(self):\n",
    "        print(f\"색깔: {self.color}, 종: {self.species}\")"
   ]
  },
  {
   "cell_type": "code",
   "execution_count": 114,
   "id": "5ae6aaea-6c48-4d26-8574-dbd5e768ea40",
   "metadata": {},
   "outputs": [
    {
     "name": "stdout",
     "output_type": "stream",
     "text": [
      "원숭이\n",
      "껍질을 벗겨서\n",
      "색깔: 노랗다, 종: 과일\n",
      "색깔: 초록색, 종: 과일\n",
      "색깔: 노랗다, 종: 과일\n"
     ]
    }
   ],
   "source": [
    "b1 = Banana()\n",
    "b1.who_many_eat()\n",
    "b1.how_eat()\n",
    "b1.show_info()\n",
    "\n",
    "b1.color = \"초록색\"\n",
    "b1.show_info()\n",
    "\n",
    "b2 = Banana()\n",
    "b2.show_info()"
   ]
  },
  {
   "cell_type": "code",
   "execution_count": 129,
   "id": "730a3e0d-32dd-469a-8f39-933b7513df7f",
   "metadata": {},
   "outputs": [],
   "source": [
    "# 객체 지향 프로그래밍 특징\n",
    "# 2) 캡슐화(Encapsulation)\n",
    "class Bank:\n",
    "    # 클래스에서 Data, Logic\n",
    "    # field : 멤버 함수, 속성, 특징, 특성,\n",
    "    # function : 멤버 함수, 동작, 행위, 기능, 메소드\n",
    "    # field + function = member\n",
    "    \n",
    "    # 접근 제어자 (Access Modifier)\n",
    "    # 외부에서 변수(함수)를 바라볼 수 있는 범위를 설정\n",
    "    # public : 누구나 어디에서나\n",
    "    # _protected : 상속 관계 + 같은 패키지(폴더)\n",
    "    # __private : 같은 클래스 내!\n",
    "\n",
    "    __money = 0\n",
    "\n",
    "    #입금, 출금, 잔액 확인\n",
    "    def deposit(self, money):\n",
    "        self.__money += money\n",
    "\n",
    "    def withdraw(self, money):\n",
    "        self.__money -= money\n",
    "\n",
    "    def show_me_the_money(self):\n",
    "        print(f\"현재 잔액: {self.__money}원\")"
   ]
  },
  {
   "cell_type": "code",
   "execution_count": 132,
   "id": "e5541c7f-674a-4c79-bd26-78ac08061bda",
   "metadata": {},
   "outputs": [
    {
     "name": "stdout",
     "output_type": "stream",
     "text": [
      "현재 잔액: 0원\n",
      "현재 잔액: 100000원\n",
      "현재 잔액: 100000원\n"
     ]
    }
   ],
   "source": [
    "나만의계좌 = Bank()\n",
    "나만의계좌.show_me_the_money() # . < member 접근 연산자\n",
    "나만의계좌.deposit(100000)\n",
    "나만의계좌.show_me_the_money()\n",
    "나만의계좌.money = 1000\n",
    "나만의계좌.show_me_the_money()\n",
    "# Back 클래스의 속성을\n",
    "# 외부 사용자가 접근할 수 있다면\n",
    "# 캡슐화"
   ]
  },
  {
   "cell_type": "code",
   "execution_count": 157,
   "id": "136a30e7-f44e-4689-b63a-847714971cd5",
   "metadata": {},
   "outputs": [],
   "source": [
    "# 생성자(Constructor)\n",
    "\n",
    "# 클래스를 만드는 이유?\n",
    "# 나만의 사용자 정의 자료형\n",
    "# VO(Value Object)\n",
    "\n",
    "class Contact:\n",
    "    # __init__\n",
    "    # 클래스가 생성될 때 호출\n",
    "    def __init__(self, name, age, mbti):            \n",
    "        self.__name = name\n",
    "        self.__age = age\n",
    "        self.__mbti= mbti\n",
    "\n",
    "    # getter : class의 field를 반환하는 함수\n",
    "    def get_age(self):\n",
    "        return self.__age\n",
    "\n",
    "    # setter : class의 field를 외부에서 수정하는 함수\n",
    "    def set_age(self, age):\n",
    "        self.__age = age\n",
    "        \n",
    "    def __str__(self):\n",
    "        return f\"이름: {self.__name}, 나이: {self.__age}세, MBTI: {self.__mbti}\""
   ]
  },
  {
   "cell_type": "code",
   "execution_count": 160,
   "id": "62e0160b-260a-46df-aa3d-512a274af9d7",
   "metadata": {},
   "outputs": [
    {
     "name": "stdout",
     "output_type": "stream",
     "text": [
      "이름: 노재웅, 나이: 21세, MBTI: ISTP\n",
      "이름: 아이유, 나이: 22세, MBTI: INFP\n"
     ]
    }
   ],
   "source": [
    "c1 = Contact(\"노재웅\",20,\"ISTP\")\n",
    "c2 = Contact(\"아이유\",21,\"INFP\")\n",
    "\n",
    "contact_list = [c1,c2]\n",
    "\n",
    "for contact in contact_list:\n",
    "    contact.set_age(contact.get_age() + 1)\n",
    "for contact in contact_list:\n",
    "    print(contact)\n",
    "    \n",
    "# result = 0\n",
    "# for contact in contact_list:\n",
    "#     result += contact.get_age()\n",
    "# print(result)\n"
   ]
  },
  {
   "cell_type": "code",
   "execution_count": 162,
   "id": "7955fee2-b348-4d8b-a909-defa0f87cfa0",
   "metadata": {},
   "outputs": [
    {
     "name": "stdout",
     "output_type": "stream",
     "text": [
      "이름: 노재웅, 나이: 21세, MBTI: ISTP\n"
     ]
    }
   ],
   "source": [
    "print(c1)"
   ]
  },
  {
   "cell_type": "code",
   "execution_count": 180,
   "id": "6fdcfb79-15af-4200-ae0c-c5823369ee80",
   "metadata": {},
   "outputs": [],
   "source": [
    "# 상속(Inheritance)\n",
    "# 기존에 만들어졌던 클래스의 멤버를 물려받아 재사용\n",
    "\n",
    "# 부모 클래스의 멤버를 물려 받아\n",
    "# 자식 클래스에서 재활용\n",
    "\n",
    "# 부모 클래스(Super Class, 상위 클래스)\n",
    "# 자식 클래스(Sub Class, 하위 클래스)\n",
    "\n",
    "# Python 객체지향의 다형성!!\n",
    "# 함수 Overriding\n",
    "# 자식 클래스에서 부모로부터 받은 함수를 재정의\n",
    "# 동물\n",
    "class Dog:\n",
    "    외모 = \"귀엽다\"\n",
    "    성격 = \"충직\"\n",
    "    문 = \"척추동물\"\n",
    "\n",
    "    def mammal(self):\n",
    "        print(\"포유류\")\n",
    "        \n",
    "    def eat(self):\n",
    "        print(\"사료 먹는다\")\n",
    "\n",
    "    def cry(self):\n",
    "        print(\"월월\")\n",
    "\n",
    "    def __str__(self):\n",
    "        return f\"외모 : {self.외모}, 성격 : {self.성격}, 문 : {self.문}\""
   ]
  },
  {
   "cell_type": "code",
   "execution_count": 167,
   "id": "af811fd2-1e83-432f-b58b-ebaa7785b5bb",
   "metadata": {},
   "outputs": [
    {
     "name": "stdout",
     "output_type": "stream",
     "text": [
      "외모 : 귀엽다, 성격 : 충직, 문 : 척추동물\n",
      "포유류\n",
      "월월\n",
      "사료 먹는다\n"
     ]
    }
   ],
   "source": [
    "모모 = Dog()\n",
    "print(모모)\n",
    "\n",
    "모모.mammal()\n",
    "모모.cry()\n",
    "모모.eat()"
   ]
  },
  {
   "cell_type": "code",
   "execution_count": 168,
   "id": "6d8632fd-db95-41bb-810c-086910511855",
   "metadata": {},
   "outputs": [],
   "source": [
    "class Rabbit:\n",
    "    외모 = \"귀엽다, 귀가 길다\"\n",
    "    성격 = \"겁이 많다\"\n",
    "    문 = \"척삭동물\"\n",
    "\n",
    "    def mammal(self):\n",
    "        print(\"포유류\")\n",
    "\n",
    "    def cry(self):\n",
    "        print(\"삑삑\")\n",
    "\n",
    "    def eat(self):\n",
    "        print(\"풀\")\n",
    "\n",
    "    def __str__(self):\n",
    "        return f\"외모 : {self.외모}, 성격 : {self.성격}, 문 : {self.문}\""
   ]
  },
  {
   "cell_type": "code",
   "execution_count": 171,
   "id": "1f88507d-0cd9-451a-8af7-a21ba6680c92",
   "metadata": {},
   "outputs": [
    {
     "name": "stdout",
     "output_type": "stream",
     "text": [
      "외모 : 귀엽다, 귀가 길다, 성격 : 겁이 많다, 문 : 척삭동물\n",
      "포유류\n",
      "삑삑\n",
      "풀\n"
     ]
    }
   ],
   "source": [
    "새초미 = Rabbit()\n",
    "print(새초미)\n",
    "\n",
    "새초미.mammal()\n",
    "새초미.cry()\n",
    "새초미.eat()"
   ]
  },
  {
   "cell_type": "code",
   "execution_count": null,
   "id": "0e4531e6-4d3b-4ddd-a3bc-346dcadbcecf",
   "metadata": {},
   "outputs": [],
   "source": [
    "# 부모 클래스\n",
    "# 자식 클래스"
   ]
  },
  {
   "cell_type": "code",
   "execution_count": 172,
   "id": "f320679c-45a9-4777-9abe-738ed6623a9f",
   "metadata": {},
   "outputs": [],
   "source": [
    "class Mammal:\n",
    "    def mammal(self):\n",
    "        print(\"포유류\")\n",
    "\n",
    "    def eat(self):\n",
    "        print(\"무언가 먹는다\")\n",
    "\n",
    "    def cry(self):\n",
    "        print(\"어떻게 울지?\")"
   ]
  },
  {
   "cell_type": "code",
   "execution_count": 179,
   "id": "20295e23-517e-4c25-81f8-2005ddaaa5c9",
   "metadata": {},
   "outputs": [],
   "source": [
    "# class 클래스명(부모클래스):\n",
    "class Cat(Mammal):\n",
    "    외모 = \"귀엽다, 수염이 있다\"\n",
    "    성격 = \"까칠하다\"\n",
    "    문 = \"척삭동물\"\n",
    "\n",
    "    def cry(self):\n",
    "        print(\"야옹\")\n",
    "\n",
    "    def eat(self):\n",
    "        print(\"사료 냠냠\")\n",
    "\n",
    "    def __str__(self):\n",
    "        return f\"외모 : {self.외모}, 성격 : {self.성격}, 문 : {self.문}\""
   ]
  },
  {
   "cell_type": "code",
   "execution_count": 178,
   "id": "6f48b29f-ad3d-4e28-997c-f26752ccd8f3",
   "metadata": {},
   "outputs": [
    {
     "name": "stdout",
     "output_type": "stream",
     "text": [
      "외모 : 귀엽다, 수염이 있다, 성격 : 까칠하다, 문 : 척삭동물\n",
      "포유류\n",
      "야옹\n",
      "사료 냠냠\n"
     ]
    }
   ],
   "source": [
    "나비 = Cat()\n",
    "print(나비)\n",
    "나비.mammal()\n",
    "나비.cry()\n",
    "나비.eat()"
   ]
  },
  {
   "cell_type": "code",
   "execution_count": null,
   "id": "3b3936a9-0116-47c6-98d2-94e8e204a082",
   "metadata": {},
   "outputs": [],
   "source": []
  },
  {
   "cell_type": "code",
   "execution_count": 181,
   "id": "84b063f2-67f3-47ec-a657-a9a23bf33605",
   "metadata": {},
   "outputs": [
    {
     "data": {
      "text/plain": [
       "<Response [200]>"
      ]
     },
     "execution_count": 181,
     "metadata": {},
     "output_type": "execute_result"
    }
   ],
   "source": [
    "# 영화진흥위원회 API\n",
    "\n",
    "import requests\n",
    "MY_API_KEY = \"7077141e402b34395ff1bda2f711ff5c\"\n",
    "date = \"20250904\"\n",
    "url_movie = f\"https://kobis.or.kr/kobisopenapi/webservice/rest/boxoffice/searchDailyBoxOfficeList.json?key={MY_API_KEY}&targetDt={date}\"\n",
    "\n",
    "response = requests.get(url_movie)\n",
    "response"
   ]
  },
  {
   "cell_type": "code",
   "execution_count": 182,
   "id": "7290c1cb-0f0c-4c0f-afbe-e4d20a648f34",
   "metadata": {},
   "outputs": [
    {
     "data": {
      "text/plain": [
       "{'boxOfficeResult': {'boxofficeType': '일별 박스오피스',\n",
       "  'showRange': '20250904~20250904',\n",
       "  'dailyBoxOfficeList': [{'rnum': '1',\n",
       "    'rank': '1',\n",
       "    'rankInten': '0',\n",
       "    'rankOldAndNew': 'OLD',\n",
       "    'movieCd': '20253289',\n",
       "    'movieNm': '극장판 귀멸의 칼날: 무한성편',\n",
       "    'openDt': '2025-08-22',\n",
       "    'salesAmt': '678112700',\n",
       "    'salesShare': '46.6',\n",
       "    'salesInten': '-159857340',\n",
       "    'salesChange': '-19.1',\n",
       "    'salesAcc': '37355740290',\n",
       "    'audiCnt': '62691',\n",
       "    'audiInten': '-16830',\n",
       "    'audiChange': '-21.2',\n",
       "    'audiAcc': '3458748',\n",
       "    'scrnCnt': '1581',\n",
       "    'showCnt': '4874'},\n",
       "   {'rnum': '2',\n",
       "    'rank': '2',\n",
       "    'rankInten': '0',\n",
       "    'rankOldAndNew': 'OLD',\n",
       "    'movieCd': '20256702',\n",
       "    'movieNm': '컨저링: 마지막 의식',\n",
       "    'openDt': '2025-09-03',\n",
       "    'salesAmt': '286788930',\n",
       "    'salesShare': '19.7',\n",
       "    'salesInten': '-110533380',\n",
       "    'salesChange': '-27.8',\n",
       "    'salesAcc': '687648240',\n",
       "    'audiCnt': '28524',\n",
       "    'audiInten': '-11054',\n",
       "    'audiChange': '-27.9',\n",
       "    'audiAcc': '68447',\n",
       "    'scrnCnt': '835',\n",
       "    'showCnt': '2151'},\n",
       "   {'rnum': '3',\n",
       "    'rank': '3',\n",
       "    'rankInten': '0',\n",
       "    'rankOldAndNew': 'OLD',\n",
       "    'movieCd': '20254501',\n",
       "    'movieNm': 'F1 더 무비',\n",
       "    'openDt': '2025-06-25',\n",
       "    'salesAmt': '132347510',\n",
       "    'salesShare': '9.1',\n",
       "    'salesInten': '-9109970',\n",
       "    'salesChange': '-6.4',\n",
       "    'salesAcc': '51794204600',\n",
       "    'audiCnt': '13230',\n",
       "    'audiInten': '-1377',\n",
       "    'audiChange': '-9.4',\n",
       "    'audiAcc': '4826681',\n",
       "    'scrnCnt': '644',\n",
       "    'showCnt': '1330'},\n",
       "   {'rnum': '4',\n",
       "    'rank': '4',\n",
       "    'rankInten': '0',\n",
       "    'rankOldAndNew': 'OLD',\n",
       "    'movieCd': '20241941',\n",
       "    'movieNm': '좀비딸',\n",
       "    'openDt': '2025-07-30',\n",
       "    'salesAmt': '119587700',\n",
       "    'salesShare': '8.2',\n",
       "    'salesInten': '-14043000',\n",
       "    'salesChange': '-10.5',\n",
       "    'salesAcc': '51273160590',\n",
       "    'audiCnt': '12983',\n",
       "    'audiInten': '-1619',\n",
       "    'audiChange': '-11.1',\n",
       "    'audiAcc': '5411863',\n",
       "    'scrnCnt': '675',\n",
       "    'showCnt': '1729'},\n",
       "   {'rnum': '5',\n",
       "    'rank': '5',\n",
       "    'rankInten': '0',\n",
       "    'rankOldAndNew': 'OLD',\n",
       "    'movieCd': '20256071',\n",
       "    'movieNm': '투게더',\n",
       "    'openDt': '2025-09-03',\n",
       "    'salesAmt': '34885600',\n",
       "    'salesShare': '2.4',\n",
       "    'salesInten': '-21448300',\n",
       "    'salesChange': '-38.1',\n",
       "    'salesAcc': '114325700',\n",
       "    'audiCnt': '4515',\n",
       "    'audiInten': '-3410',\n",
       "    'audiChange': '-43',\n",
       "    'audiAcc': '15019',\n",
       "    'scrnCnt': '239',\n",
       "    'showCnt': '603'},\n",
       "   {'rnum': '6',\n",
       "    'rank': '6',\n",
       "    'rankInten': '0',\n",
       "    'rankOldAndNew': 'OLD',\n",
       "    'movieCd': '20256281',\n",
       "    'movieNm': '첫사랑 엔딩',\n",
       "    'openDt': '2025-08-27',\n",
       "    'salesAmt': '32606400',\n",
       "    'salesShare': '2.2',\n",
       "    'salesInten': '-6098200',\n",
       "    'salesChange': '-15.8',\n",
       "    'salesAcc': '795122770',\n",
       "    'audiCnt': '3468',\n",
       "    'audiInten': '-603',\n",
       "    'audiChange': '-14.8',\n",
       "    'audiAcc': '84391',\n",
       "    'scrnCnt': '271',\n",
       "    'showCnt': '386'},\n",
       "   {'rnum': '7',\n",
       "    'rank': '7',\n",
       "    'rankInten': '3',\n",
       "    'rankOldAndNew': 'OLD',\n",
       "    'movieCd': '20210546',\n",
       "    'movieNm': '악마가 이사왔다',\n",
       "    'openDt': '2025-08-13',\n",
       "    'salesAmt': '12823700',\n",
       "    'salesShare': '0.9',\n",
       "    'salesInten': '-958400',\n",
       "    'salesChange': '-7',\n",
       "    'salesAcc': '4035317910',\n",
       "    'audiCnt': '1535',\n",
       "    'audiInten': '18',\n",
       "    'audiChange': '1.2',\n",
       "    'audiAcc': '425187',\n",
       "    'scrnCnt': '88',\n",
       "    'showCnt': '109'},\n",
       "   {'rnum': '8',\n",
       "    'rank': '8',\n",
       "    'rankInten': '1',\n",
       "    'rankOldAndNew': 'OLD',\n",
       "    'movieCd': '20256701',\n",
       "    'movieNm': '긴키 지방의 어느 장소에 대하여',\n",
       "    'openDt': '2025-08-13',\n",
       "    'salesAmt': '13145900',\n",
       "    'salesShare': '0.9',\n",
       "    'salesInten': '-2389400',\n",
       "    'salesChange': '-15.4',\n",
       "    'salesAcc': '2655711490',\n",
       "    'audiCnt': '1307',\n",
       "    'audiInten': '-251',\n",
       "    'audiChange': '-16.1',\n",
       "    'audiAcc': '260195',\n",
       "    'scrnCnt': '156',\n",
       "    'showCnt': '188'},\n",
       "   {'rnum': '9',\n",
       "    'rank': '9',\n",
       "    'rankInten': '3',\n",
       "    'rankOldAndNew': 'OLD',\n",
       "    'movieCd': '20256202',\n",
       "    'movieNm': '노바디2',\n",
       "    'openDt': '2025-08-27',\n",
       "    'salesAmt': '10973700',\n",
       "    'salesShare': '0.8',\n",
       "    'salesInten': '-1010600',\n",
       "    'salesChange': '-8.4',\n",
       "    'salesAcc': '477331800',\n",
       "    'audiCnt': '1200',\n",
       "    'audiInten': '-129',\n",
       "    'audiChange': '-9.7',\n",
       "    'audiAcc': '53902',\n",
       "    'scrnCnt': '199',\n",
       "    'showCnt': '277'},\n",
       "   {'rnum': '10',\n",
       "    'rank': '10',\n",
       "    'rankInten': '-3',\n",
       "    'rankOldAndNew': 'OLD',\n",
       "    'movieCd': '20020328',\n",
       "    'movieNm': '이티',\n",
       "    'openDt': '1984-06-23',\n",
       "    'salesAmt': '10006600',\n",
       "    'salesShare': '0.7',\n",
       "    'salesInten': '-13074100',\n",
       "    'salesChange': '-56.6',\n",
       "    'salesAcc': '94402800',\n",
       "    'audiCnt': '1044',\n",
       "    'audiInten': '-1365',\n",
       "    'audiChange': '-56.7',\n",
       "    'audiAcc': '11492',\n",
       "    'scrnCnt': '110',\n",
       "    'showCnt': '174'}]}}"
      ]
     },
     "execution_count": 182,
     "metadata": {},
     "output_type": "execute_result"
    }
   ],
   "source": [
    "result = response.json()\n",
    "result"
   ]
  },
  {
   "cell_type": "code",
   "execution_count": 188,
   "id": "102ed30f-b6ae-497c-8de0-76403be628e0",
   "metadata": {},
   "outputs": [],
   "source": [
    "# 영화 관련된 자료형\n",
    "# rank : 순위\n",
    "# movieNm : 영화 제목\n",
    "# audiCnt : 일별 관객수\n",
    "# audiAcc : 누적 관객수\n",
    "\n",
    "class Movie:\n",
    "    def __init__(self, rank, movieNm, audiCnt, audiAcc):\n",
    "        self.rank = rank\n",
    "        self.movieNm = movieNm\n",
    "        self.audiCnt = audiCnt\n",
    "        self.audiAcc = audiAcc\n",
    "\n",
    "    def __str__(self):\n",
    "        return f\"{self.rank}위 : {self.movieNm}({self.audiCnt}명/{self.audiAcc}명)\""
   ]
  },
  {
   "cell_type": "code",
   "execution_count": 191,
   "id": "2c3d0c9a-393d-420d-989f-6b980868485e",
   "metadata": {},
   "outputs": [],
   "source": [
    "movie_list =[]\n",
    "\n",
    "for i in range(10):\n",
    "    rank = result[\"boxOfficeResult\"][\"dailyBoxOfficeList\"][i][\"rank\"]\n",
    "    movieNm = result[\"boxOfficeResult\"][\"dailyBoxOfficeList\"][i][\"movieNm\"]\n",
    "    audiCnt = result[\"boxOfficeResult\"][\"dailyBoxOfficeList\"][i][\"audiCnt\"]\n",
    "    audiAcc = result[\"boxOfficeResult\"][\"dailyBoxOfficeList\"][i][\"audiAcc\"]\n",
    "\n",
    "    movie = Movie(rank, movieNm, audiCnt, audiAcc)\n",
    "    movie_list.append(movie)\n"
   ]
  },
  {
   "cell_type": "code",
   "execution_count": 192,
   "id": "a7d45d63-3740-4eee-baf3-8ab5935d4912",
   "metadata": {},
   "outputs": [
    {
     "name": "stdout",
     "output_type": "stream",
     "text": [
      "1위 : 극장판 귀멸의 칼날: 무한성편(62691명/3458748명)\n",
      "2위 : 컨저링: 마지막 의식(28524명/68447명)\n",
      "3위 : F1 더 무비(13230명/4826681명)\n",
      "4위 : 좀비딸(12983명/5411863명)\n",
      "5위 : 투게더(4515명/15019명)\n",
      "6위 : 첫사랑 엔딩(3468명/84391명)\n",
      "7위 : 악마가 이사왔다(1535명/425187명)\n",
      "8위 : 긴키 지방의 어느 장소에 대하여(1307명/260195명)\n",
      "9위 : 노바디2(1200명/53902명)\n",
      "10위 : 이티(1044명/11492명)\n"
     ]
    }
   ],
   "source": [
    "for movie in movie_list:\n",
    "    print(movie)"
   ]
  },
  {
   "cell_type": "code",
   "execution_count": null,
   "id": "595ab2ff-cf2c-4313-8d29-ffc203777725",
   "metadata": {},
   "outputs": [],
   "source": [
    "# 자료구조 (Data Structure)\n",
    "# 자료들을 효율적으로 다루기 위한 방법\n",
    "# 1) 선형 : 배열, 연결리스트, 스택, 큐\n",
    "# 2) 비선형 : 트리, 그래프"
   ]
  },
  {
   "cell_type": "code",
   "execution_count": 198,
   "id": "6410b008-56bb-4a10-92ea-c6c9af69ff41",
   "metadata": {},
   "outputs": [],
   "source": [
    "# Python에서 배열을 표현해보자\n",
    "# 첨자를 사용 \n",
    "# 인덱스가 0 ~ 순차적\n",
    "# 크기 고정\n",
    "\n",
    "class Array:\n",
    "    def __init__(self, *args):\n",
    "        self.data = args\n",
    "\n",
    "    def get(self, index):\n",
    "        return self.data[index]\n",
    "\n",
    "    def __str__(self):\n",
    "        return str(self.data)\n",
    "        "
   ]
  },
  {
   "cell_type": "code",
   "execution_count": 199,
   "id": "a01e6ac7-8170-4964-9853-b5819e0dbd18",
   "metadata": {},
   "outputs": [
    {
     "name": "stdout",
     "output_type": "stream",
     "text": [
      "(1, 2, 3, 4)\n"
     ]
    }
   ],
   "source": [
    "arr1 = Array(1,2,3,4)\n",
    "\n",
    "arr1.get(2)\n",
    "\n",
    "print(arr1)"
   ]
  },
  {
   "cell_type": "code",
   "execution_count": 221,
   "id": "21c27d93-ad08-4400-b5be-6ad722357646",
   "metadata": {},
   "outputs": [],
   "source": [
    "# 연결리스트 (Linked List)\n",
    "class Node:\n",
    "    def __init__(self, data):\n",
    "        self.data = data\n",
    "        self.next = None\n",
    "        \n",
    "class LinkedList:\n",
    "    def __init__(self):\n",
    "        self.head = None # 연결리스트 첫부분\n",
    "\n",
    "    def append(self, data):\n",
    "        if self.head == None:\n",
    "            self.head = Node(data)\n",
    "        else:\n",
    "            curr = self.head\n",
    "            while curr.next:\n",
    "                curr = curr.next\n",
    "            curr.next = Node(data)\n",
    "\n",
    "    def __str__(self):\n",
    "        result = \"\"\n",
    "        curr = self.head\n",
    "\n",
    "        while True:\n",
    "            result += str(curr.data)\n",
    "\n",
    "            if curr.next == None:\n",
    "                break\n",
    "            curr = curr.next\n",
    "            result += \" -> \"\n",
    "        \n",
    "        # str(self.head.data)\n",
    "        return result"
   ]
  },
  {
   "cell_type": "code",
   "execution_count": 219,
   "id": "46ee68cf-5c29-49c4-afe4-5701101f1a2d",
   "metadata": {},
   "outputs": [
    {
     "name": "stdout",
     "output_type": "stream",
     "text": [
      "1 -> 2 -> 10 -> 100\n"
     ]
    }
   ],
   "source": [
    "list1 = LinkedList()\n",
    "list1.append(1)\n",
    "list1.append(2)\n",
    "list1.append(10)\n",
    "list1.append(100)\n",
    "\n",
    "\n",
    "print(list1)"
   ]
  },
  {
   "cell_type": "code",
   "execution_count": 227,
   "id": "97cb2336-6e28-4a50-b402-b41dbcfef034",
   "metadata": {},
   "outputs": [],
   "source": [
    "# 스택\n",
    "# Node 활용\n",
    "# Last In First out (LIFO)\n",
    "# push(10)\n",
    "# pop() -> 가장 위 노드를 제거, 노드 data를 반환\n",
    "# peek() -> 가장 위 노드 data 반환\n",
    "# is_empty() -> 만약, 스택이 비어있으면 True, 비어있지 않으면 Flase\n",
    "\n",
    "class Node:\n",
    "    def __init__(self,data):\n",
    "        self.data = data\n",
    "        self.next = None\n",
    "\n",
    "class Stack:\n",
    "    def __init__(self):\n",
    "        self.top = None\n",
    "\n",
    "    def push(self, data):\n",
    "        if self.top == None:\n",
    "            self.top = Node(data)\n",
    "        else:\n",
    "            # 첫 노드가 10\n",
    "            # 두 번째 노드가 20\n",
    "            # 첫 번째 노드.next -> 두 번째 노드\n",
    "            curr = Node(data)\n",
    "            curr.next = self.top\n",
    "            self.top = curr\n",
    "\n",
    "    def pop(self):\n",
    "        # 가장 윗 노드 제거 -> 해당 data 반환\n",
    "        if self.top == None:\n",
    "            return None\n",
    "        else:\n",
    "            curr = self.top\n",
    "            self.top = self.top.next\n",
    "            return curr.data\n",
    "\n",
    "    def peek(self):\n",
    "        # 가장 윗 노드의 data 반환\n",
    "        if self.top == None:\n",
    "            return None\n",
    "        else:\n",
    "            curr = self.top\n",
    "            return curr.data\n",
    "            \n",
    "    \n",
    "    def is_empty(self):\n",
    "        if self.top == None:\n",
    "            return True\n",
    "        else:\n",
    "            return False\n",
    "\n",
    "    def __str__(self):\n",
    "        result = \"\"\n",
    "        curr = self.top\n",
    "\n",
    "        while True:\n",
    "            result += curr.data\n",
    "            \n",
    "            if curr.next == None:\n",
    "                break\n",
    "            curr = curr.next\n",
    "            result += \" -> \"\n",
    "            \n",
    "        return result"
   ]
  },
  {
   "cell_type": "code",
   "execution_count": 237,
   "id": "737768ec-1c1e-420a-8251-1f70ab296262",
   "metadata": {},
   "outputs": [
    {
     "name": "stdout",
     "output_type": "stream",
     "text": [
      "30\n",
      "20\n",
      "20 -> 10\n"
     ]
    }
   ],
   "source": [
    "s = Stack()\n",
    "s.push(10)\n",
    "s.push(20)\n",
    "s.push(30)\n",
    "print(s.pop())\n",
    "print(s.peek())\n",
    "print(s)"
   ]
  },
  {
   "cell_type": "code",
   "execution_count": 238,
   "id": "c4a17b18-22b4-46dd-8418-05d5ce1740f7",
   "metadata": {},
   "outputs": [
    {
     "name": "stdin",
     "output_type": "stream",
     "text": [
      " 6\n",
      " 6\n"
     ]
    },
    {
     "name": "stdout",
     "output_type": "stream",
     "text": [
      "NO\n"
     ]
    },
    {
     "name": "stdin",
     "output_type": "stream",
     "text": [
      " 6\n"
     ]
    },
    {
     "name": "stdout",
     "output_type": "stream",
     "text": [
      "NO\n"
     ]
    },
    {
     "name": "stdin",
     "output_type": "stream",
     "text": [
      " 6\n"
     ]
    },
    {
     "name": "stdout",
     "output_type": "stream",
     "text": [
      "NO\n"
     ]
    },
    {
     "name": "stdin",
     "output_type": "stream",
     "text": [
      " 5\n"
     ]
    },
    {
     "name": "stdout",
     "output_type": "stream",
     "text": [
      "NO\n"
     ]
    },
    {
     "name": "stdin",
     "output_type": "stream",
     "text": [
      " 4\n"
     ]
    },
    {
     "name": "stdout",
     "output_type": "stream",
     "text": [
      "NO\n"
     ]
    },
    {
     "name": "stdin",
     "output_type": "stream",
     "text": [
      " 3\n"
     ]
    },
    {
     "name": "stdout",
     "output_type": "stream",
     "text": [
      "NO\n"
     ]
    }
   ],
   "source": [
    "# continue : 반복문의 다음 바퀴 진행\n",
    "# pass : if, else의 내용 없음을 방지하여 지나친다\n",
    "class Node:\n",
    "    def __init__(self, data):\n",
    "        self.data = data\n",
    "        self.next = None\n",
    "\n",
    "class Stack:\n",
    "    def __init__(self):\n",
    "        self.top = None\n",
    "\n",
    "    def push(self, data):\n",
    "        if self.top == None:\n",
    "            self.top = Node(data)\n",
    "        else:\n",
    "            curr = Node(data)\n",
    "            curr.next = self.top\n",
    "            self.top = curr\n",
    "\n",
    "    def pop(self):\n",
    "        # 가장 윗 노드 제거, 해당 data 반환\n",
    "        if self.top == None:\n",
    "            return None\n",
    "        else:\n",
    "            curr = self.top\n",
    "            self.top = self.top.next\n",
    "            return curr.data\n",
    "    def peek(self):\n",
    "        # 가장 윗 노드의 data 반환\n",
    "        if self.top == None:\n",
    "            return None\n",
    "        else:\n",
    "            curr = self.top\n",
    "            return curr.data\n",
    "\n",
    "    def is_empty(self):\n",
    "        return self.top == None\n",
    "\n",
    "    def __str__(self):\n",
    "        result = \"\"\n",
    "\n",
    "        curr = self.top\n",
    "\n",
    "        while True:\n",
    "            result += str(curr.data)\n",
    "            if curr.next == None:\n",
    "                break\n",
    "            curr = curr.next\n",
    "            result += \" -> \"\n",
    "            \n",
    "        return result\n",
    "\n",
    "def is_valid(valid):\n",
    "    is_vps = True\n",
    "    \n",
    "    braket = Stack()\n",
    "    for ps in valid:\n",
    "        if ps == \"(\":\n",
    "            braket.push(ps)\n",
    "        else:\n",
    "            if braket.pop() == \"(\":\n",
    "                continue\n",
    "            else:\n",
    "                is_vps = False\n",
    "                break\n",
    "    if not braket.is_empty():\n",
    "        is_vps = False\n",
    "    print(\"YES\" if is_vps else \"NO\")\n",
    "\n",
    "T = int(input())\n",
    "for _ in range(T):\n",
    "    valid = input()\n",
    "    is_valid(valid)"
   ]
  },
  {
   "cell_type": "code",
   "execution_count": null,
   "id": "2ab39a59-4fac-4e4f-9297-23057fc2dcb7",
   "metadata": {},
   "outputs": [],
   "source": []
  }
 ],
 "metadata": {
  "kernelspec": {
   "display_name": "Python 3 (ipykernel)",
   "language": "python",
   "name": "python3"
  },
  "language_info": {
   "codemirror_mode": {
    "name": "ipython",
    "version": 3
   },
   "file_extension": ".py",
   "mimetype": "text/x-python",
   "name": "python",
   "nbconvert_exporter": "python",
   "pygments_lexer": "ipython3",
   "version": "3.9.23"
  }
 },
 "nbformat": 4,
 "nbformat_minor": 5
}
