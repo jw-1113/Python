{
 "cells": [
  {
   "cell_type": "code",
   "execution_count": 4,
   "id": "e776097f-d0e2-43ae-abf5-db21061a81ec",
   "metadata": {},
   "outputs": [
    {
     "name": "stdout",
     "output_type": "stream",
     "text": [
      "Requirement already satisfied: pyqt5 in c:\\programdata\\anaconda3\\envs\\myenv\\lib\\site-packages (5.15.11)\n",
      "Requirement already satisfied: PyQt5-sip<13,>=12.15 in c:\\programdata\\anaconda3\\envs\\myenv\\lib\\site-packages (from pyqt5) (12.17.0)\n",
      "Requirement already satisfied: PyQt5-Qt5<5.16.0,>=5.15.2 in c:\\programdata\\anaconda3\\envs\\myenv\\lib\\site-packages (from pyqt5) (5.15.2)\n"
     ]
    }
   ],
   "source": [
    "!pip install pyqt5"
   ]
  },
  {
   "cell_type": "code",
   "execution_count": 9,
   "id": "24e87bdf-8e01-4193-8cae-efb686c6f8e7",
   "metadata": {},
   "outputs": [
    {
     "ename": "SystemExit",
     "evalue": "0",
     "output_type": "error",
     "traceback": [
      "An exception has occurred, use %tb to see the full traceback.\n",
      "\u001b[1;31mSystemExit\u001b[0m\u001b[1;31m:\u001b[0m 0\n"
     ]
    }
   ],
   "source": [
    "# 나만의 어플리케이션 만들어 보자\n",
    "from PyQt5.QtWidgets import QApplication, QWidget\n",
    "import sys # 해당 App을 우리 원두에 띄우기 위해\n",
    "\n",
    "# QWidget 상속받기\n",
    "class MyApp(QWidget):\n",
    "    def __init__(self):\n",
    "        # 부모 안에 있는 field 가져다 쓰기\n",
    "        super().__init__()\n",
    "        self.initUI()\n",
    "        \n",
    "    # 초기화면 구성\n",
    "    def initUI(self):\n",
    "        self.setWindowTitle(\"exam01\")\n",
    "        self.move(1000,500)\n",
    "        self.resize(400, 200) # width, height (pixel)\n",
    "        self.show()\n",
    "\n",
    "# 내가 직접 실행했을 때만 실행되는 부분\n",
    "if __name__ == \"__main__\":\n",
    "    # 현재 동작하고 있는 App을 띄우기 위한 인스턴스가 있는지 여부\n",
    "    app = QApplication.instance()\n",
    "    if app is None:\n",
    "        app = QApplication(sys.argv) # 윈도우 시스템에 띄우기 위해\n",
    "    exam = MyApp()\n",
    "    sys.exit(app.exec_()) # 윈도우 창이 꺼지면 app도 없애버리자\n",
    "    "
   ]
  },
  {
   "cell_type": "code",
   "execution_count": 2,
   "id": "ad7699bc-60c7-4b5b-a534-9b09232a761f",
   "metadata": {},
   "outputs": [],
   "source": [
    "import exam\n",
    "# import를 하면\n",
    "# 메모리에 해당 python 파일 로드\n",
    "# 코드 한번 실행"
   ]
  },
  {
   "cell_type": "code",
   "execution_count": 1,
   "id": "18fe5150-cac4-41e5-b3c6-3e6b2f7dfd80",
   "metadata": {},
   "outputs": [
    {
     "name": "stdout",
     "output_type": "stream",
     "text": [
      "Hi\n",
      "Hellow world\n"
     ]
    }
   ],
   "source": [
    "from exam import Cal"
   ]
  },
  {
   "cell_type": "code",
   "execution_count": 1,
   "id": "f3e298d3-f35b-4fbc-a1c0-b57c08289ba0",
   "metadata": {},
   "outputs": [
    {
     "name": "stdout",
     "output_type": "stream",
     "text": [
      "Hellow world\n"
     ]
    }
   ],
   "source": [
    "from exam import print_add"
   ]
  },
  {
   "cell_type": "code",
   "execution_count": 24,
   "id": "529b133e-01fe-498c-b8ed-711b989b6657",
   "metadata": {},
   "outputs": [
    {
     "ename": "SystemExit",
     "evalue": "0",
     "output_type": "error",
     "traceback": [
      "An exception has occurred, use %tb to see the full traceback.\n",
      "\u001b[1;31mSystemExit\u001b[0m\u001b[1;31m:\u001b[0m 0\n"
     ]
    },
    {
     "name": "stderr",
     "output_type": "stream",
     "text": [
      "C:\\ProgramData\\anaconda3\\envs\\myenv\\lib\\site-packages\\IPython\\core\\interactiveshell.py:3558: UserWarning: To exit: use 'exit', 'quit', or Ctrl-D.\n",
      "  warn(\"To exit: use 'exit', 'quit', or Ctrl-D.\", stacklevel=1)\n"
     ]
    }
   ],
   "source": [
    "from PyQt5.QtWidgets import QApplication, QWidget, QPushButton\n",
    "import sys \n",
    "\n",
    "class MyApp(QWidget):\n",
    "    def __init__(self):\n",
    "        # 부모 안에 있는 field 가져다 쓰기\n",
    "        super().__init__()\n",
    "        self.initUI()\n",
    "\n",
    "    # 초기화면 구성\n",
    "    def initUI(self):\n",
    "        self.setWindowTitle(\"exam02\")\n",
    "        self.setGeometry(1000,500,400,200) # move, resive 한번에\n",
    "        button = QPushButton(\"눌러봐\", self) # (문구, 부모(MyApp))\n",
    "        button.move(50,70)\n",
    "        button.resize(100,50)\n",
    "        button.resize(button.sizeHint()) # button size 알아서 추천\n",
    "\n",
    "        # button을 눌렀을때 실행되는 함수 정의\n",
    "        # def set_color():\n",
    "        #     self.setStyleSheet(\"background-color : #FF0000\") # (속성: 값)\n",
    "\n",
    "        # 이렇게 정의 된 함수는 한 번만 쓰이니까\n",
    "        # 정의하지 말고 바로 쓰자 -> Lamda expression\n",
    "        # df.appley\n",
    "        button.pressed.connect(lambda : self.setStyleSheet(\"background-color : #B9A0FE\"))\n",
    "        #button.setText(\"바보\")        \n",
    "        # button.clicked.connect(set_color)\n",
    "\n",
    "        # 버튼의 상태 감지\n",
    "        # clicked() 눌렀다 뗌\n",
    "        # pressed() 누름\n",
    "        # released() 뗌\n",
    "        button.released.connect(lambda : self.setStyleSheet(\"background-color : #FF0000\"))\n",
    "        \n",
    "        self.show()\n",
    "\n",
    "if __name__ == \"__main__\":\n",
    "    app = QApplication.instance()\n",
    "    if app is None:\n",
    "        app = QApplication(sys.argv)\n",
    "    exam = MyApp()\n",
    "    sys.exit(app.exec_())"
   ]
  },
  {
   "cell_type": "code",
   "execution_count": 39,
   "id": "5f37f742-35df-476b-8a24-adc0fc389561",
   "metadata": {},
   "outputs": [
    {
     "ename": "SystemExit",
     "evalue": "0",
     "output_type": "error",
     "traceback": [
      "An exception has occurred, use %tb to see the full traceback.\n",
      "\u001b[1;31mSystemExit\u001b[0m\u001b[1;31m:\u001b[0m 0\n"
     ]
    }
   ],
   "source": [
    "from PyQt5.QtWidgets import (QApplication, QWidget, QLineEdit, QPushButton, QLabel, QRadioButton,\n",
    "                            QCheckBox, QVBoxLayout, QHBoxLayout)\n",
    "import sys\n",
    "\n",
    "class MyApp(QWidget):\n",
    "    def __init__(self):\n",
    "        super().__init__()\n",
    "        self.initUI()\n",
    "        \n",
    "    # 초기화면 구성\n",
    "    def initUI(self):\n",
    "        self.setWindowTitle(\"exam03\")\n",
    "        self.setGeometry(1000,500,400,200)\n",
    "\n",
    "        qle_id = QLineEdit(self)\n",
    "        qle_pw = QLineEdit(self)\n",
    "\n",
    "        qle_id.setGeometry(50,50,140,25)\n",
    "        qle_id.setPlaceholderText(\"ID를 입력하세요\")\n",
    "        qle_pw.setGeometry(50,100,140,25)\n",
    "        qle_pw.setPlaceholderText(\"PW를 입력하세요\")\n",
    "        qle_pw.setEchoMode(QLineEdit.Password)\n",
    "        \n",
    "        btn_login = QPushButton(\"로그인\", self)\n",
    "        btn_login.setGeometry(150, 150, 100, 25)\n",
    "\n",
    "        \n",
    "        def login():\n",
    "            # qle_id에 있는 문자열 정보 받아보고\n",
    "            # qle_pw에 있는 문자열 가져오고\n",
    "            login_id = qle_id.text()\n",
    "            login_pw = qle_pw.text()\n",
    "            if login_id == \"jw\" and login_pw == \"1234\":\n",
    "                self.setStyleSheet(\"background-color : #B9A0FE\")\n",
    "            else:\n",
    "                self.setStyleSheet(\"background-color : #FF0000\")\n",
    "\n",
    "        btn_login.clicked.connect(login)\n",
    "            \n",
    "        self.show()\n",
    "\n",
    "\n",
    "if __name__ == \"__main__\":\n",
    "    app = QApplication.instance()\n",
    "    if app is None:\n",
    "        app = QApplication(sys.argv)\n",
    "    exam = MyApp()\n",
    "    sys.exit(app.exec_())"
   ]
  },
  {
   "cell_type": "code",
   "execution_count": 104,
   "id": "639d9cbb-7312-4910-8a16-9d393be2f148",
   "metadata": {},
   "outputs": [
    {
     "ename": "SystemExit",
     "evalue": "0",
     "output_type": "error",
     "traceback": [
      "An exception has occurred, use %tb to see the full traceback.\n",
      "\u001b[1;31mSystemExit\u001b[0m\u001b[1;31m:\u001b[0m 0\n"
     ]
    },
    {
     "name": "stderr",
     "output_type": "stream",
     "text": [
      "C:\\ProgramData\\anaconda3\\envs\\myenv\\lib\\site-packages\\IPython\\core\\interactiveshell.py:3558: UserWarning: To exit: use 'exit', 'quit', or Ctrl-D.\n",
      "  warn(\"To exit: use 'exit', 'quit', or Ctrl-D.\", stacklevel=1)\n"
     ]
    }
   ],
   "source": [
    "from PyQt5.QtWidgets import (QApplication, QWidget, QLineEdit, QPushButton, QLabel, QRadioButton,\n",
    "                            QCheckBox, QVBoxLayout, QHBoxLayout)\n",
    "from PyQt5.QtCore import Qt\n",
    "from PyQt5.QtGui import QPixmap\n",
    "\n",
    "class MyApp(QWidget):\n",
    "    def __init__(self):\n",
    "        super().__init__()\n",
    "        self.initUI()\n",
    "        \n",
    "    # 초기화면 구성\n",
    "    def initUI(self):\n",
    "        self.setWindowTitle(\"exam04\")\n",
    "        self.setGeometry(800,300,400,600)\n",
    "\n",
    "        # 수직 Box\n",
    "        # - 위젯\n",
    "        # - 수평 Box\n",
    "        # - - 버튼1, 버튼2\n",
    "        vbox = QVBoxLayout()\n",
    "        vbox.addStretch(1) # 공간 삽입\n",
    "        self.ql = QLabel(\"연습용\", alignment=Qt.AlignCenter)\n",
    "\n",
    "        # 이미지 로드\n",
    "        self.idx = 0\n",
    "        path = f\"imgs/img{self.idx + 1}.png\"\n",
    "        qpm = QPixmap(path)\n",
    "        qpm = qpm.scaled(230,200)\n",
    "        self.ql.setPixmap(qpm)\n",
    "\n",
    "        def next_img():\n",
    "            self.idx += 1\n",
    "            if self.idx >= 4:\n",
    "                self.idx = 0\n",
    "            path = f\"imgs/img{self.idx + 1}.png\"\n",
    "            qpm = QPixmap(path)\n",
    "            qpm = qpm.scaled(230,200)\n",
    "            self.ql.setPixmap(qpm)\n",
    "\n",
    "        def back_img():\n",
    "            self.idx -= 1\n",
    "            if self.idx <= 0:\n",
    "                self.idx = 4\n",
    "            path = f\"imgs/img{self.idx + 1}.png\"\n",
    "            qpm = QPixmap(path)\n",
    "            qpm = qpm.scaled(230,200)\n",
    "            self.ql.setPixmap(qpm)\n",
    "            \n",
    "            \n",
    "        vbox.addWidget(self.ql)\n",
    "        vbox.addStretch(1)\n",
    "\n",
    "        hbox = QHBoxLayout()\n",
    "        btn1 = QPushButton(\"<\")\n",
    "        btn1.clicked.connect(back_img)\n",
    "        btn1.setStyleSheet\n",
    "        btn2 = QPushButton(\">\")\n",
    "        btn2.clicked.connect(next_img)\n",
    "        hbox.setSpacing(20)\n",
    "        hbox.addStretch(1)\n",
    "        hbox.addWidget(btn1)\n",
    "        hbox.addWidget(btn2)\n",
    "        hbox.addStretch(1)\n",
    "\n",
    "        vbox.addLayout(hbox)\n",
    "        vbox.addStretch(1)\n",
    "        \n",
    "        self.setLayout(vbox)       \n",
    "        self.show()\n",
    "\n",
    "if __name__ == \"__main__\":\n",
    "    app = QApplication.instance()\n",
    "    if app is None:\n",
    "        app = QApplication(sys.argv)\n",
    "    exam = MyApp()\n",
    "    sys.exit(app.exec_())\n",
    "    "
   ]
  },
  {
   "cell_type": "code",
   "execution_count": null,
   "id": "3777fbc9-3162-4249-8361-38883e228df9",
   "metadata": {},
   "outputs": [],
   "source": [
    "!pip install pyinstaller"
   ]
  },
  {
   "cell_type": "code",
   "execution_count": null,
   "id": "e1ce0d53-25e6-4f5b-886c-fe58acfee736",
   "metadata": {},
   "outputs": [],
   "source": [
    "!pyinstaller --onefile imgzz.py"
   ]
  }
 ],
 "metadata": {
  "kernelspec": {
   "display_name": "Python 3 (ipykernel)",
   "language": "python",
   "name": "python3"
  },
  "language_info": {
   "codemirror_mode": {
    "name": "ipython",
    "version": 3
   },
   "file_extension": ".py",
   "mimetype": "text/x-python",
   "name": "python",
   "nbconvert_exporter": "python",
   "pygments_lexer": "ipython3",
   "version": "3.9.23"
  }
 },
 "nbformat": 4,
 "nbformat_minor": 5
}
