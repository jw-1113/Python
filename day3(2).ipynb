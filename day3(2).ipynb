{
 "cells": [
  {
   "cell_type": "code",
   "execution_count": 4,
   "id": "11c1ac27-165d-4093-8406-92fa3a2a1a52",
   "metadata": {},
   "outputs": [
    {
     "name": "stdout",
     "output_type": "stream",
     "text": [
      "78은 index: 6위치에 있습니다.\n"
     ]
    }
   ],
   "source": [
    "# 탐색\n",
    "# 원하는 요소(값)이 어느 위치에 있는지?\n",
    "\n",
    "index = -1\n",
    "arr = [13,35,15,11,26,72,78,13,61,90]\n",
    "# 78이 어디에 있는지\n",
    "search = 78\n",
    "\n",
    "#Sequential Search\n",
    "for i in range(len(arr)):\n",
    "    if arr[i] == search:\n",
    "        index = i\n",
    "        break\n",
    "        \n",
    "print(f\"{search}은 index: {index}위치에 있습니다.\")\n",
    "\n"
   ]
  },
  {
   "cell_type": "code",
   "execution_count": 14,
   "id": "01763899-2953-42a3-ba49-c0c75e331c76",
   "metadata": {},
   "outputs": [
    {
     "name": "stdout",
     "output_type": "stream",
     "text": [
      "[1, 7, 16, 25, 30, 33, 41, 66, 78, 90]\n",
      "77은 index: -1위치에 있습니다.\n"
     ]
    }
   ],
   "source": [
    "# 이진 탐색(Binary Search)\n",
    "# 범위를 2분할하여 값을 탐색하는 기법\n",
    "\n",
    "# Up-Down 1 ~ 50사이의 값을 추측\n",
    "# 첫 번째 추측 값으로 25, 대소 비교를 통해 이외의 범위를 제외\n",
    "\n",
    "list4 = [1,16,30,33,66,90,7,25,41,78]\n",
    "list4.sort() # 선행 조건 : 오름차순, 내림차순 정렬!\n",
    "print(list4)\n",
    "\n",
    "index = -1\n",
    "low_index = 0\n",
    "high_index = 9\n",
    "\n",
    "import time\n",
    "\n",
    "search = 77\n",
    "count = 0\n",
    "while low_index <= high_index:b\n",
    "    \n",
    "    mid_index = (low_index + high_index) // 2\n",
    "    if list4[mid_index] < search:\n",
    "        low_index = mid_index + 1\n",
    "    elif list4[mid_index] > search:\n",
    "        high_index = mid_index - 1 \n",
    "    else:\n",
    "        index = mid_index\n",
    "        break\n",
    "\n",
    "print(f\"{search}은 index: {index}위치에 있습니다.\")"
   ]
  },
  {
   "cell_type": "code",
   "execution_count": null,
   "id": "71460054-1a40-4ea5-b9e4-5f10e2355953",
   "metadata": {},
   "outputs": [],
   "source": [
    "# 딕셔너리\n",
    "# 1) CSV(Comma Separated Value)\n",
    "\n",
    "# 46 byte\n",
    "이름, 나이, mbti\n",
    "노재웅,20,ISTP\n",
    "아이유,21,INFP\n",
    "\n",
    "# 장점 : 길이가 짧다 (비용이 저렴)\n",
    "# 단점 : 데이터의 내용을 상대적으로 해석하기 어렵다.\n",
    "\n",
    "# 2) XML (eXtensible Markup Language)\n",
    "# 111 byte\n",
    "<이름>\"노재웅\"</이름><나이>20</나이><mbit>\"ISTP\"</mbti>,\n",
    "<이름>\"아이유\"</이름><나이>21</나이><mbit>\"INFP\"</mbti>\n",
    "\n",
    "# 장점 : 데이터의 내용을 상대적으로 해석하기 쉽다.\n",
    "# 단점 : 길이가 길다 (고비용)\n",
    "\n",
    "# 3) JSON(JavaScript Object Notation)\n",
    "# 84 byte\n",
    "{\"이름\":\"노재웅\",\"나이\":20,\"mbti\":\"ISTP\"},\n",
    "{\"이름\":\"아이유\",\"나이\":21,\"mbti\":\"INFP\"}\n",
    "\n",
    "# 장점 : XML보다 저렴, CSV보다 해석하기 용이\n",
    "# 단점 : CSV보다 비싸다, XML보다 해석하기 어렵다"
   ]
  },
  {
   "cell_type": "code",
   "execution_count": 17,
   "id": "edc383c4-39fd-4b5a-8a8a-313151bc6c48",
   "metadata": {},
   "outputs": [
    {
     "name": "stdout",
     "output_type": "stream",
     "text": [
      "{}\n",
      "{'이름': '노재웅'}\n",
      "{1: 5, 2: 3}\n"
     ]
    }
   ],
   "source": [
    "# 딕셔너리 (Dictionary)\n",
    "# 사전 의미! 자료구조\n",
    "# 키-값 (key-value)\n",
    "\n",
    "a = {}\n",
    "b = {'이름':'노재웅'}\n",
    "c = {1:5, 2:3}\n",
    "\n",
    "print(a)\n",
    "print(b)\n",
    "print(c)"
   ]
  },
  {
   "cell_type": "code",
   "execution_count": 23,
   "id": "1ee6c04a-b7e7-4504-b57d-10a9a91bb8f5",
   "metadata": {},
   "outputs": [
    {
     "name": "stdout",
     "output_type": "stream",
     "text": [
      "{'이름': '노재웅', '나이': 20, 'mbti': 'ISTP'}\n",
      "{'이름': '노재웅', '나이': 20, 'mbti': 'ISTP', '혈액형': 'A'}\n",
      "{'이름': '노재웅', '나이': 21, 'mbti': 'ISTP', '혈액형': 'A'}\n",
      "{'이름': '노재웅', '나이': 21, 'mbti': 'ISTP'}\n"
     ]
    }
   ],
   "source": [
    "dic_info = {\"이름\":\"노재웅\",\"나이\":20,\"mbti\":\"ISTP\"}\n",
    "print(dic_info)\n",
    "\n",
    "# 딕셔너리 값 추가\n",
    "# dic명[key값]=value값\n",
    "dic_info[\"혈액형\"] = \"A\"\n",
    "print(dic_info)\n",
    "\n",
    "# 딕셔너리 값 수정\n",
    "# dic명[key값]=value값\n",
    "dic_info[\"나이\"] = 21\n",
    "print(dic_info)\n",
    "\n",
    "# 딕셔너리 값 삭제\n",
    "# del dic명[키값]\n",
    "del dic_info[\"혈액형\"]\n",
    "print(dic_info)"
   ]
  },
  {
   "cell_type": "code",
   "execution_count": 27,
   "id": "099fb9e8-208c-4d8e-9c9e-506ecd033ab4",
   "metadata": {},
   "outputs": [
    {
     "name": "stdout",
     "output_type": "stream",
     "text": [
      "{'이름': '노재웅', '나이': 21, 'mbti': 'ISTP'}\n",
      "21\n",
      "21\n",
      "None\n",
      "해당 key가 존재하지 않습니다\n"
     ]
    }
   ],
   "source": [
    "print(dic_info)\n",
    "\n",
    "# 값 가져오기\n",
    "print(dic_info[\"나이\"])\n",
    "print(dic_info.get(\"나이\"))\n",
    "\n",
    "# print(dic_info[\"혈액형\"]) # 없는 key 입력 시 Error\n",
    "print(dic_info.get(\"혈액형\")) # 없는 key 입력 시 반환\n",
    "\n",
    "if not dic_info.get(\"혈액형\"):\n",
    "    print(\"해당 key가 존재하지 않습니다\")"
   ]
  },
  {
   "cell_type": "code",
   "execution_count": 32,
   "id": "b538dfa5-c619-45eb-9b97-b37560789416",
   "metadata": {},
   "outputs": [
    {
     "name": "stdout",
     "output_type": "stream",
     "text": [
      "['이름', '나이', 'mbti']\n",
      "['노재웅', 21, 'ISTP']\n",
      "[('이름', '노재웅'), ('나이', 21), ('mbti', 'ISTP')]\n"
     ]
    }
   ],
   "source": [
    "print(list(dic_info.keys())) # 모든 key 가져와서 list로 형 변환\n",
    "print(list(dic_info.values())) # 모든 value 가져오기\n",
    "print(list(dic_info.items()))"
   ]
  },
  {
   "cell_type": "code",
   "execution_count": 36,
   "id": "3c273e2c-f9e7-43d7-8a2d-3ad0497142fd",
   "metadata": {},
   "outputs": [
    {
     "name": "stdout",
     "output_type": "stream",
     "text": [
      "이름 : 노재웅\n",
      "나이 : 21(세)\n",
      "mbti : ISTP\n"
     ]
    }
   ],
   "source": [
    "# 이름 : 노재웅\n",
    "# 나이 : 21(세)\n",
    "# mbti : ISTP\n",
    "\n",
    "for key, value in list(dic_info.items()):\n",
    "    if key == \"나이\":\n",
    "        print(f\"{key} : {value}(세)\")\n",
    "    else:\n",
    "        print(f\"{key} : {value}\")"
   ]
  },
  {
   "cell_type": "code",
   "execution_count": 39,
   "id": "9d74262e-3d75-4f7c-8367-83f7083f4f9b",
   "metadata": {},
   "outputs": [
    {
     "name": "stdout",
     "output_type": "stream",
     "text": [
      "True\n",
      "False\n",
      "False\n"
     ]
    }
   ],
   "source": [
    "print(\"이름\" in dic_info)\n",
    "print(\"혈액형\" in dic_info)\n",
    "print(\"ISTP\" in dic_info) #key만 판단 가능"
   ]
  },
  {
   "cell_type": "code",
   "execution_count": 40,
   "id": "390e316f-f718-410a-8386-157889ba74ae",
   "metadata": {},
   "outputs": [
    {
     "data": {
      "text/plain": [
       "<Response [200]>"
      ]
     },
     "execution_count": 40,
     "metadata": {},
     "output_type": "execute_result"
    }
   ],
   "source": [
    "# 딕셔너리 재밌는 실습\n",
    "\n",
    "import requests\n",
    "MY_API_KEY = \"7077141e402b34395ff1bda2f711ff5c\"\n",
    "date = \"20250903\"\n",
    "url_movie = f\"https://kobis.or.kr/kobisopenapi/webservice/rest/boxoffice/searchDailyBoxOfficeList.json?key={MY_API_KEY}&targetDt={date}\"\n",
    "\n",
    "response = requests.get(url_movie)\n",
    "response"
   ]
  },
  {
   "cell_type": "code",
   "execution_count": 41,
   "id": "4587c50e-f354-4e7b-afb2-8c0274c5f1a1",
   "metadata": {},
   "outputs": [
    {
     "data": {
      "text/plain": [
       "{'boxOfficeResult': {'boxofficeType': '일별 박스오피스',\n",
       "  'showRange': '20250903~20250903',\n",
       "  'dailyBoxOfficeList': [{'rnum': '1',\n",
       "    'rank': '1',\n",
       "    'rankInten': '0',\n",
       "    'rankOldAndNew': 'OLD',\n",
       "    'movieCd': '20253289',\n",
       "    'movieNm': '극장판 귀멸의 칼날: 무한성편',\n",
       "    'openDt': '2025-08-22',\n",
       "    'salesAmt': '837970040',\n",
       "    'salesShare': '46.1',\n",
       "    'salesInten': '24451280',\n",
       "    'salesChange': '3',\n",
       "    'salesAcc': '36677723590',\n",
       "    'audiCnt': '79521',\n",
       "    'audiInten': '5537',\n",
       "    'audiChange': '7.5',\n",
       "    'audiAcc': '3396064',\n",
       "    'scrnCnt': '1609',\n",
       "    'showCnt': '5026'},\n",
       "   {'rnum': '2',\n",
       "    'rank': '2',\n",
       "    'rankInten': '0',\n",
       "    'rankOldAndNew': 'NEW',\n",
       "    'movieCd': '20256702',\n",
       "    'movieNm': '컨저링: 마지막 의식',\n",
       "    'openDt': '2025-09-03',\n",
       "    'salesAmt': '397329310',\n",
       "    'salesShare': '21.9',\n",
       "    'salesInten': '397329310',\n",
       "    'salesChange': '100',\n",
       "    'salesAcc': '400866310',\n",
       "    'audiCnt': '39579',\n",
       "    'audiInten': '39579',\n",
       "    'audiChange': '100',\n",
       "    'audiAcc': '39924',\n",
       "    'scrnCnt': '842',\n",
       "    'showCnt': '2218'},\n",
       "   {'rnum': '3',\n",
       "    'rank': '3',\n",
       "    'rankInten': '-1',\n",
       "    'rankOldAndNew': 'OLD',\n",
       "    'movieCd': '20254501',\n",
       "    'movieNm': 'F1 더 무비',\n",
       "    'openDt': '2025-06-25',\n",
       "    'salesAmt': '141457480',\n",
       "    'salesShare': '7.8',\n",
       "    'salesInten': '-45178360',\n",
       "    'salesChange': '-24.2',\n",
       "    'salesAcc': '51661894090',\n",
       "    'audiCnt': '14607',\n",
       "    'audiInten': '-3702',\n",
       "    'audiChange': '-20.2',\n",
       "    'audiAcc': '4813455',\n",
       "    'scrnCnt': '635',\n",
       "    'showCnt': '1337'},\n",
       "   {'rnum': '4',\n",
       "    'rank': '4',\n",
       "    'rankInten': '-1',\n",
       "    'rankOldAndNew': 'OLD',\n",
       "    'movieCd': '20241941',\n",
       "    'movieNm': '좀비딸',\n",
       "    'openDt': '2025-07-30',\n",
       "    'salesAmt': '133630700',\n",
       "    'salesShare': '7.4',\n",
       "    'salesInten': '-20665580',\n",
       "    'salesChange': '-13.4',\n",
       "    'salesAcc': '51153597890',\n",
       "    'audiCnt': '14602',\n",
       "    'audiInten': '-2148',\n",
       "    'audiChange': '-12.8',\n",
       "    'audiAcc': '5398885',\n",
       "    'scrnCnt': '688',\n",
       "    'showCnt': '1804'},\n",
       "   {'rnum': '5',\n",
       "    'rank': '5',\n",
       "    'rankInten': '0',\n",
       "    'rankOldAndNew': 'NEW',\n",
       "    'movieCd': '20256071',\n",
       "    'movieNm': '투게더',\n",
       "    'openDt': '2025-09-03',\n",
       "    'salesAmt': '56333900',\n",
       "    'salesShare': '3.1',\n",
       "    'salesInten': '56333900',\n",
       "    'salesChange': '100',\n",
       "    'salesAcc': '79440100',\n",
       "    'audiCnt': '7925',\n",
       "    'audiInten': '7925',\n",
       "    'audiChange': '100',\n",
       "    'audiAcc': '10504',\n",
       "    'scrnCnt': '251',\n",
       "    'showCnt': '646'},\n",
       "   {'rnum': '6',\n",
       "    'rank': '6',\n",
       "    'rankInten': '-2',\n",
       "    'rankOldAndNew': 'OLD',\n",
       "    'movieCd': '20256281',\n",
       "    'movieNm': '첫사랑 엔딩',\n",
       "    'openDt': '2025-08-27',\n",
       "    'salesAmt': '38704600',\n",
       "    'salesShare': '2.1',\n",
       "    'salesInten': '-24125700',\n",
       "    'salesChange': '-38.4',\n",
       "    'salesAcc': '762516370',\n",
       "    'audiCnt': '4071',\n",
       "    'audiInten': '-2545',\n",
       "    'audiChange': '-38.5',\n",
       "    'audiAcc': '80923',\n",
       "    'scrnCnt': '273',\n",
       "    'showCnt': '394'},\n",
       "   {'rnum': '7',\n",
       "    'rank': '7',\n",
       "    'rankInten': '0',\n",
       "    'rankOldAndNew': 'NEW',\n",
       "    'movieCd': '20020328',\n",
       "    'movieNm': '이티',\n",
       "    'openDt': '1984-06-23',\n",
       "    'salesAmt': '23080700',\n",
       "    'salesShare': '1.3',\n",
       "    'salesInten': '23080700',\n",
       "    'salesChange': '100',\n",
       "    'salesAcc': '84396200',\n",
       "    'audiCnt': '2409',\n",
       "    'audiInten': '2409',\n",
       "    'audiChange': '100',\n",
       "    'audiAcc': '10448',\n",
       "    'scrnCnt': '117',\n",
       "    'showCnt': '189'},\n",
       "   {'rnum': '8',\n",
       "    'rank': '8',\n",
       "    'rankInten': '0',\n",
       "    'rankOldAndNew': 'NEW',\n",
       "    'movieCd': '20233039',\n",
       "    'movieNm': '살인자 리포트',\n",
       "    'openDt': '2025-09-05',\n",
       "    'salesAmt': '17028000',\n",
       "    'salesShare': '0.9',\n",
       "    'salesInten': '17028000',\n",
       "    'salesChange': '100',\n",
       "    'salesAcc': '25110000',\n",
       "    'audiCnt': '1892',\n",
       "    'audiInten': '1892',\n",
       "    'audiChange': '100',\n",
       "    'audiAcc': '2790',\n",
       "    'scrnCnt': '10',\n",
       "    'showCnt': '10'},\n",
       "   {'rnum': '9',\n",
       "    'rank': '9',\n",
       "    'rankInten': '-4',\n",
       "    'rankOldAndNew': 'OLD',\n",
       "    'movieCd': '20256701',\n",
       "    'movieNm': '긴키 지방의 어느 장소에 대하여',\n",
       "    'openDt': '2025-08-13',\n",
       "    'salesAmt': '15535300',\n",
       "    'salesShare': '0.9',\n",
       "    'salesInten': '-16145900',\n",
       "    'salesChange': '-51',\n",
       "    'salesAcc': '2642565590',\n",
       "    'audiCnt': '1558',\n",
       "    'audiInten': '-1556',\n",
       "    'audiChange': '-50',\n",
       "    'audiAcc': '258888',\n",
       "    'scrnCnt': '162',\n",
       "    'showCnt': '207'},\n",
       "   {'rnum': '10',\n",
       "    'rank': '10',\n",
       "    'rankInten': '-4',\n",
       "    'rankOldAndNew': 'OLD',\n",
       "    'movieCd': '20210546',\n",
       "    'movieNm': '악마가 이사왔다',\n",
       "    'openDt': '2025-08-13',\n",
       "    'salesAmt': '13782100',\n",
       "    'salesShare': '0.8',\n",
       "    'salesInten': '-13020600',\n",
       "    'salesChange': '-48.6',\n",
       "    'salesAcc': '4022494210',\n",
       "    'audiCnt': '1517',\n",
       "    'audiInten': '-1422',\n",
       "    'audiChange': '-48.4',\n",
       "    'audiAcc': '423652',\n",
       "    'scrnCnt': '120',\n",
       "    'showCnt': '149'}]}}"
      ]
     },
     "execution_count": 41,
     "metadata": {},
     "output_type": "execute_result"
    }
   ],
   "source": [
    "result = response.json()\n",
    "result"
   ]
  },
  {
   "cell_type": "code",
   "execution_count": 54,
   "id": "cd6bf85f-2787-42cf-bace-fc067025eae8",
   "metadata": {},
   "outputs": [
    {
     "name": "stdout",
     "output_type": "stream",
     "text": [
      "1위 : 극장판 귀멸의 칼날: 무한성편(79521명)\n",
      "2위 : 컨저링: 마지막 의식(39579명)\n",
      "3위 : F1 더 무비(14607명)\n",
      "4위 : 좀비딸(14602명)\n",
      "5위 : 투게더(7925명)\n",
      "6위 : 첫사랑 엔딩(4071명)\n",
      "7위 : 이티(2409명)\n",
      "8위 : 살인자 리포트(1892명)\n",
      "9위 : 긴키 지방의 어느 장소에 대하여(1558명)\n",
      "10위 : 악마가 이사왔다(1517명)\n"
     ]
    }
   ],
   "source": [
    "# movieNm = result[\"boxOfficeResult\"][\"dailyBoxOfficeList\"][0][\"movieNm\"]\n",
    "# rank = result[\"boxOfficeResult\"][\"dailyBoxOfficeList\"][0][\"rank\"]\n",
    "\n",
    "# print(f\"{rank}위 : {movieNm}\")\n",
    "\n",
    "for i in range(10):\n",
    "    movieNm = result[\"boxOfficeResult\"][\"dailyBoxOfficeList\"][i][\"movieNm\"]\n",
    "    rank = result[\"boxOfficeResult\"][\"dailyBoxOfficeList\"][i][\"rank\"]\n",
    "    audiCnt = result[\"boxOfficeResult\"][\"dailyBoxOfficeList\"][i][\"audiCnt\"]\n",
    "\n",
    "    print(f\"{rank}위 : {movieNm}({audiCnt}명)\")"
   ]
  },
  {
   "cell_type": "code",
   "execution_count": null,
   "id": "26cd0a56-1466-475b-b07b-8432ad79c299",
   "metadata": {},
   "outputs": [],
   "source": []
  },
  {
   "cell_type": "code",
   "execution_count": 56,
   "id": "524e87f6-0140-4686-872c-173cdc14ddb2",
   "metadata": {},
   "outputs": [
    {
     "name": "stdout",
     "output_type": "stream",
     "text": [
      "12\n",
      "25\n",
      "38\n",
      "55\n"
     ]
    }
   ],
   "source": [
    "# 함수\n",
    "# 반복되는 기능이 모여있는 코드의 집합\n",
    "\n",
    "# 변수 : 반복되는 값\n",
    "# 반복문 : 반복되는 실행문자\n",
    "\n",
    "print(10 + 2)\n",
    "print(20 + 5)\n",
    "print(30 + 8)\n",
    "print(40 + 15)\n"
   ]
  },
  {
   "cell_type": "code",
   "execution_count": 63,
   "id": "53a97927-2484-4183-885b-d9cdb1306faa",
   "metadata": {},
   "outputs": [
    {
     "name": "stdout",
     "output_type": "stream",
     "text": [
      "13\n",
      "26\n",
      "39\n",
      "56\n"
     ]
    }
   ],
   "source": [
    "# def 함수명(매개변수):\n",
    "#     실행문장\n",
    "#     return 반환 값\n",
    "\n",
    "def get_dia(buy, bonus):\n",
    "    return buy + bonus + 1\n",
    "\n",
    "print(get_dia(10, 2))\n",
    "print(get_dia(20, 5))\n",
    "print(get_dia(30, 8))\n",
    "print(get_dia(40, 15))"
   ]
  },
  {
   "cell_type": "code",
   "execution_count": 64,
   "id": "06339829-1ddb-432d-887e-9b88ddf1c4bb",
   "metadata": {},
   "outputs": [
    {
     "data": {
      "text/plain": [
       "[1, 7, 16, 25, 30, 33, 41, 66, 78, 90]"
      ]
     },
     "execution_count": 64,
     "metadata": {},
     "output_type": "execute_result"
    }
   ],
   "source": [
    "# 함수의 카테고리\n",
    "# 1) 내장함수 : print(), input(), abs()\n",
    "max(list4)"
   ]
  },
  {
   "cell_type": "code",
   "execution_count": 11,
   "id": "fdbd4981-fe0f-46e4-881b-5d138c2ba73a",
   "metadata": {},
   "outputs": [
    {
     "name": "stdout",
     "output_type": "stream",
     "text": [
      "30\n",
      "50\n",
      "노재웅\n",
      "우중충\n"
     ]
    }
   ],
   "source": [
    "# 사용자 정의 함수\n",
    "# 1) 매개변수O, 리턴값O\n",
    "def add_two_number(num1, num2): # num1,num2 :매개변수\n",
    "    return num1 + num2\n",
    "\n",
    "print(add_two_number(10,20)) # 10,20 : 전달변수\n",
    "add_two_number(3,5) + add_two_number(10,30)\n",
    "\n",
    "# 2) 매개변수O, 리턴값X\n",
    "def print_add(num1, num2):\n",
    "    print(num1+ num2)\n",
    "\n",
    "print_add(20,30)\n",
    "\n",
    "# print_add(3,5) + print_add(10,30) # error\n",
    "\n",
    "# 3) 매개변수X, 리턴값O\n",
    "def get_name(): # getter\n",
    "    return \"노재웅\"\n",
    "\n",
    "print(get_name())\n",
    "\n",
    "# 4) 매개변수X, 리턴값X\n",
    "def today_seoul_weater():\n",
    "    print(\"우중충\")\n",
    "\n",
    "today_seoul_weater()"
   ]
  },
  {
   "cell_type": "code",
   "execution_count": null,
   "id": "3a7bdfa8-0614-49c8-9f56-2e973b22aa88",
   "metadata": {},
   "outputs": [],
   "source": []
  },
  {
   "cell_type": "code",
   "execution_count": 14,
   "id": "a3145077-ce21-4c3f-8e4f-652ad55bd3d9",
   "metadata": {},
   "outputs": [
    {
     "name": "stdout",
     "output_type": "stream",
     "text": [
      "10\n",
      "10\n"
     ]
    }
   ],
   "source": [
    "# 절대값 반환\n",
    "def absolute(num):\n",
    "    if num < 0:\n",
    "        num *= -1\n",
    "    else:\n",
    "        num == num\n",
    "    return num\n",
    "    \n",
    "\n",
    "print(absolute(-10))\n",
    "print(absolute(10))"
   ]
  },
  {
   "cell_type": "code",
   "execution_count": 25,
   "id": "1b540fe5-6620-44d4-9046-e90917a68d76",
   "metadata": {},
   "outputs": [
    {
     "name": "stdin",
     "output_type": "stream",
     "text": [
      "첫 번째 정수 입력:  2\n",
      "두 번째 정수 입력:  3\n"
     ]
    },
    {
     "name": "stdout",
     "output_type": "stream",
     "text": [
      "3\n"
     ]
    }
   ],
   "source": [
    "# close10(num1, num2)\n",
    "# 둘 중에 10에 더 가까울 수를 return 하는 함수\n",
    "\n",
    "\n",
    "def close10(a,b):\n",
    "\n",
    "    absolute(a-10)\n",
    "    absolute(b-10)\n",
    "\n",
    "    if absolute(a-10) < absolute(b-10):\n",
    "        return a\n",
    "    else:\n",
    "        return b\n",
    "    \n",
    "num1 = int(input(\"첫 번째 정수 입력: \"))\n",
    "num2 = int(input(\"두 번째 정수 입력: \"))\n",
    "print(close10(num1,num2))"
   ]
  },
  {
   "cell_type": "code",
   "execution_count": 23,
   "id": "ff3845ff-0880-4cad-af3b-691e7f4e2494",
   "metadata": {},
   "outputs": [
    {
     "name": "stdout",
     "output_type": "stream",
     "text": [
      "20\n"
     ]
    }
   ],
   "source": [
    "# list의 가장 큰 값을 반환하는\n",
    "# maximize()\n",
    "list5 = [10,5,7,20,3]\n",
    "index_list = list[0]\n",
    "\n",
    "def maximsize(list500):\n",
    "    max_value = list500[0]\n",
    "    for i in list500:\n",
    "        if i > max_value:\n",
    "            max_value = i\n",
    "    return max_value\n",
    "\n",
    "print(maximsize(list5))"
   ]
  }
 ],
 "metadata": {
  "kernelspec": {
   "display_name": "Python 3 (ipykernel)",
   "language": "python",
   "name": "python3"
  },
  "language_info": {
   "codemirror_mode": {
    "name": "ipython",
    "version": 3
   },
   "file_extension": ".py",
   "mimetype": "text/x-python",
   "name": "python",
   "nbconvert_exporter": "python",
   "pygments_lexer": "ipython3",
   "version": "3.9.23"
  }
 },
 "nbformat": 4,
 "nbformat_minor": 5
}
