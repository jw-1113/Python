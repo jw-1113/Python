{
 "cells": [
  {
   "cell_type": "code",
   "execution_count": null,
   "id": "624b22e0-dcc5-4203-9fab-6ba3ed96676e",
   "metadata": {},
   "outputs": [],
   "source": [
    "#Boolean Indexing\n",
    "df_pokemon[\"Total\"] >= 500\n",
    "df_pokemon[df_pokemon[\"Total\"] >= 500] # Total이 500 이상인 데이터만 추출\n",
    "\n",
    "# 500이상이면서 1세대만 출력\n",
    "(df_pokemon[\"Total\"] >= 500) & (df_pokemon[\"Generation\"] == 1)\n",
    "df_temp = df_pokemon[(df_pokemon[\"Total\"] >= 500) & (df_pokemon[\"Generation\"] == 1)]\n",
    "df_temp\n",
    "\n",
    "#total 의 평균 구하기\n",
    "df_temp[\"Total\"].mean()\n",
    "\n",
    "# df에서는 정수 형태로 취급\n",
    "# 문자열 20이 df에서는 정수형 20\n",
    "# 1세대 포켓몬의 평균 total\n",
    "df_pokemon[df_pokemon[\"Generation\"] == 1][\"Total\"].mean()\n",
    "\n",
    "# 만약, Mega를 뺸다면\n",
    "df_pokemon[(df_pokemon[\"Generation\"] == 1) & (~df_pokemon[\"Name\"].str.contains(\"Mega\"))][\"Total\"].mean() \n",
    "# ~ : not (비트연산 기호)"
   ]
  },
  {
   "cell_type": "code",
   "execution_count": null,
   "id": "0fffcf6c-d652-4cfb-bdd7-591a08e7dc78",
   "metadata": {},
   "outputs": [],
   "source": [
    "# 그룹 별 통계 수치 확인\n",
    "# 세대 별(1~6) Total의 평균치\n",
    "# 1) 세대별로 그룹화 시키고 1세대 total을 가져와 평균을 구하고,2세대 ,3세대,...\n",
    "df_pokemon.groupby(\"Generation\")[\"Total\"].mean()\n",
    "\n",
    "# Type 1 별 total 의 평균\n",
    "df_pokemon.groupby(\"Type 1\")[\"Total\"].mean() # \"\"~~\"별  \"--\"의 평균 >> \"\"~~\"를 그룹화\n",
    "\n",
    "# 어떤 통계 함수 사용할 수 있는지 ? \n",
    "df_pokemon.groupby(\"Generation\")[\"Total\"].max() #최댓값\n",
    "df_pokemon.groupby(\"Generation\")[\"Total\"].min() #최소값\n",
    "df_pokemon.groupby(\"Generation\")[\"Total\"].median( ) #중앙값\n",
    "df_pokemon.groupby(\"Generation\")[\"Total\"].sum() #총합\n",
    "df_pokemon.groupby(\"Generation\")[\"Total\"].count() # 갯수\n",
    "#중앙값과 평균이 얼마나 차이가 있는지 >> 비교하여 데이터의 신뢰성 관련\n",
    "#세대 별 Total 의 평균치와 중앙값을 동시에 출력\n",
    "df_pokemon.groupby(\"Generation\")[\"Total\"].agg([\"mean\", \"median\"])"
   ]
  },
  {
   "cell_type": "code",
   "execution_count": 1,
   "id": "363959f6-d4ca-459f-b6cf-6afc29ceb367",
   "metadata": {},
   "outputs": [
    {
     "name": "stderr",
     "output_type": "stream",
     "text": [
      "  % Total    % Received % Xferd  Average Speed   Time    Time     Time  Current\n",
      "                                 Dload  Upload   Total   Spent    Left  Speed\n",
      "\n",
      "  0     0    0     0    0     0      0      0 --:--:-- --:--:-- --:--:--     0\n",
      "  0     0    0     0    0     0      0      0 --:--:-- --:--:-- --:--:--     0\n",
      "  0     0    0     0    0     0      0      0 --:--:-- --:--:-- --:--:--     0\n",
      "\n",
      "100 61194  100 61194    0     0  86017      0 --:--:-- --:--:-- --:--:-- 86017\n"
     ]
    }
   ],
   "source": [
    "# 타이타닉 데이터\n",
    "!curl -L https://github.com/nayeho/harman2/raw/refs/heads/main/train.csv -o titanic.csv"
   ]
  },
  {
   "cell_type": "code",
   "execution_count": null,
   "id": "24c01f9b-efe6-4401-9ea5-4b91931e68e0",
   "metadata": {},
   "outputs": [],
   "source": [
    "df_titanic = pd.read_csv(\"titanic.csv\",encoding=\"UTF-8\")\n",
    "df_titanic.sample()"
   ]
  },
  {
   "cell_type": "code",
   "execution_count": null,
   "id": "666ef112-7a70-4f35-9f03-f29deb0117ba",
   "metadata": {},
   "outputs": [],
   "source": [
    "# 탑승객 중 생존한 사람의 수\n",
    "# 데이터를 Table 형태로 다룰 때, 각각의 cloumn은 후보 key라는 개념을 갖는다\n",
    "# 10번째 승객과 20번째승객이 다른 Data 임을 나타내는 column이 필요\n",
    "df_titanic[df_titanic[\"Survived\"] == 1].count()\n",
    "# robot 과정의 data >> 이름 /나이/mbti/... 24명 > 이름으로 구분 가능. why?) 중복이 없기 때문에 \n",
    "# 따라서 이름은  Data를 구분하는 대표 key 가 될 수있음 > \"Primary key(대표key)\"\n",
    "# 대표 column이 될 가능성이 있는 column들을 \"후보 key\" 라고 함.\n",
    "\n",
    "# 대한민국5175만명의 국민 각각을 구분하는 column을 갖기 어려움(중복의 가능성)\n",
    "# 그렇다면 우리가 부여하자 >> 주민등록번호\n",
    "\n",
    "#titanic 에서는 PassengerId가 대표column(Primary key)이 됨.(중복x, 결측x)\n",
    "#PassengerId 는 titanic data를 구분하기 위한 대표column(Primary key)이 됨\n",
    "df_titanic[df_titanic[\"Survived\"] == 1][\"PassengerId\"].count()"
   ]
  },
  {
   "cell_type": "code",
   "execution_count": null,
   "id": "50b2cc43-3464-4ae7-bc7a-10fe77d9a4a0",
   "metadata": {},
   "outputs": [],
   "source": [
    "# 탑승객중\n",
    "# 1) 남성의 수 (Sex ==\"male\")\n",
    "print(f\"\"\"남성의 수 : {\n",
    "df_titanic[df_titanic[\"Sex\"]==\"male\"][\"PassengerId\"].count()\n",
    "}명\"\"\")\n",
    "# 2) 여성의 수 (Sex ==\"female\")\n",
    "print(f\"\"\"여성의 수 : {\n",
    "df_titanic[df_titanic[\"Sex\"]==\"female\"][\"PassengerId\"].count()\n",
    "}명\"\"\")\n",
    "# 3) 생존자 수\n",
    "print(f\"\"\"생존자 수 : {\n",
    "df_titanic[df_titanic[\"Survived\"]==1][\"PassengerId\"].count()\n",
    "}명\"\"\")\n",
    "# 4) 사망자 수\n",
    "print(f\"\"\"생존자 수 : {\n",
    "df_titanic[df_titanic[\"Survived\"]!=1][\"PassengerId\"].count()\n",
    "}명\"\"\")\n",
    "# 5) 남성 + 생존\n",
    "print(f\"\"\"남성 + 생존 : {\n",
    "df_titanic[(df_titanic[\"Sex\"] == \"male\") & (df_titanic[\"Survived\"] == 1)][\"PassengerId\"].count()\n",
    "}명\"\"\")\n",
    "# 6) 여성 + 생존\n",
    "print(f\"\"\"여성 + 생존 : {\n",
    "df_titanic[(df_titanic[\"Sex\"] == \"female\") & (df_titanic[\"Survived\"] == 1)][\"PassengerId\"].count()\n",
    "}명\"\"\")\n",
    "# 7) 남성 + 사망\n",
    "print(f\"\"\"남성 + 사망 : {\n",
    "df_titanic[(df_titanic[\"Sex\"] == \"male\") & (df_titanic[\"Survived\"] == 0)][\"PassengerId\"].count()\n",
    "}명\"\"\")\n",
    "# 8) 여성 + 사망\n",
    "print(f\"\"\"여성 + 사망 : {\n",
    "df_titanic[(df_titanic[\"Sex\"] == \"female\") & (df_titanic[\"Survived\"] == 0)][\"PassengerId\"].count()\n",
    "}명\"\"\")"
   ]
  },
  {
   "cell_type": "code",
   "execution_count": null,
   "id": "49e43fb2-d0cc-4313-ae49-10d8b01797f1",
   "metadata": {},
   "outputs": [],
   "source": [
    "# groupby() \n",
    "# 성별별 생존  column (생존1,사망0)\n",
    "df_titanic.groupby(\"Sex\")[\"Survived\"].sum() #1과0밖에 없기 때문에\n",
    "# 전체 숫자\n",
    "df_titanic.groupby(\"Sex\")[\"Survived\"].count()\n",
    "#전체 + 생존숫자\n",
    "df_titanic.groupby(\"Sex\")[\"Survived\"].agg([\"count\",\"sum\"])\n",
    "#전체 + 생존숫자+\n",
    "df_titanic.groupby(\"Sex\")[\"Survived\"].agg([\"count\",\"sum\"])"
   ]
  },
  {
   "cell_type": "code",
   "execution_count": null,
   "id": "3d62d019-f45e-422c-9777-396a22ac411a",
   "metadata": {},
   "outputs": [],
   "source": [
    "# Pclass 객실 등급 별 생존자 수\n",
    "# 객실 등급 총 인원, 생존자 수\n",
    "\n",
    "df_titanic.groupby(\"Pclass\")[\"Survived\"].agg([\"count\",\"sum\",\"mean\"])"
   ]
  },
  {
   "cell_type": "code",
   "execution_count": null,
   "id": "16ed0060-1c1d-44a8-9d6f-dc270fde9f5d",
   "metadata": {},
   "outputs": [],
   "source": [
    "# 남성의 수, 여성의 수\n",
    "# 해당하는 column별 data 개수\n",
    "df_titanic[\"Sex\"].value_counts()\n",
    "#생존, 사망\n",
    "df_titanic[\"Survived\"].value_counts()\n",
    "#객실 등급 별 인원\n",
    "df_titanic[\"Survived\"].value_counts()"
   ]
  },
  {
   "cell_type": "code",
   "execution_count": null,
   "id": "8978b0b3-cde8-498e-8312-1bd6c092d8fd",
   "metadata": {},
   "outputs": [],
   "source": [
    "# 통계적인 데이터는 문자열 나오지 않는다!\n",
    "# 타이타닉의 male, female을 1, 0으로 변환 적용\n",
    "\n",
    "# 필요 없는 column 지우고 가자\n",
    "# 데이터프레임명.drop\n",
    "# inplace 삭제하기전 원본에 저장할것인가를 정함.\n",
    "df_titanic.drop(columns=[\"SibSp\", \"Parch\", \"Ticket\", \"Fare\", \"Cabin\", \"Embarked\"], inplace=True)\n",
    "\n",
    "def is_male(sex):\n",
    "    if sex == \"male\":\n",
    "        return 1\n",
    "    else:\n",
    "        return 0\n",
    "\n",
    "df_titanic[\"Male\"] = df_titanic[\"Sex\"].apply(is_male)\n",
    "df_titanic"
   ]
  },
  {
   "cell_type": "code",
   "execution_count": null,
   "id": "d3944621-e29b-4c3f-9b45-30b0ebd4e81f",
   "metadata": {},
   "outputs": [],
   "source": [
    "# Python 에서 \n",
    "# 함수 저의(메모리에 올라감) -> 사용\n",
    "# 메모리에 올라가는 함수가 지속적으로 사용하지 않고\n",
    "# 일회성으로 사용되는 함수!\n",
    "# 만들자마자 쓰고 버리는건 어때 ? \n",
    "# Lambda Expression(람다 표현식)\n",
    "def add(num1,num2):\n",
    "    return num1 + num2\n",
    "print(add(10,20))\n",
    "\n",
    "#(함수명(매개변수): 리턴값)(전달인자)\n",
    "(lambda num1, num2 : num1 + num2)(100,200)\n"
   ]
  },
  {
   "cell_type": "code",
   "execution_count": null,
   "id": "3f704081-b527-486f-8904-37bf4848b692",
   "metadata": {},
   "outputs": [],
   "source": [
    "df_titanic[\"Female\"] = df_titanic[\"Sex\"].apply(lambda x: 1 if x == \"female\" else 0)\n",
    "df_titanic.describe()\n",
    "\n",
    "# correlation(상관분석)\n",
    "df_titanic[[\"Survived\",\"Age\",\"Male\",\"Female\"]].corr()\n",
    "\n",
    "# 비가 오면 우산 판매량이 늘어난다  : 비가온다 / 우산 판매량이 늘어난다 \n",
    "# 여름이 되면 빙그레 주가가 올라간다\n",
    "# + 1에 가까울 수록 양의 상관관계가 높다\n",
    "# +0.7 이상이면 강한 상관관계 가 있다\n",
    "# +0.7 ~ +0.4 상관관계가 있다\n",
    "# 이전 요인이 다음 요인에 영향을 미칠 가능성이 있다\n",
    "# 0.8 이상이면 두 요인은 같이 보는 것이 옳다. 실제로는 보기 어려움\n",
    "\n",
    "# -1에 가까울수록 음의 상관관계가 있다\n",
    "# -0.7 이하이면 강한 음의 상관관계 가 있다\n",
    "# -0.7 ~ - 0.4 상관관계가 있다\n",
    "\n",
    "\n",
    "# data분석\n",
    " # 생존과 여성의 관계 여성일수록 더 생존하게 된다  + 남성일수록 더 사망하게 된다"
   ]
  },
  {
   "cell_type": "code",
   "execution_count": null,
   "id": "2e527c50-4084-4209-a97a-909de5e39a87",
   "metadata": {},
   "outputs": [],
   "source": [
    "df_pokemon[\"Legend\"] = df_pokemon[\"Legendary\"].apply(lambda x : 1 if x else 0)\n",
    "df_pokemon[[\"Total\",\"Generation\",\"Legend\"]].corr()\n",
    "# 분석\n",
    "# 레전드가 1일수록 토탈이 높아진다"
   ]
  },
  {
   "cell_type": "code",
   "execution_count": null,
   "id": "b9c58891-9490-4046-94ea-5ac4e67e469d",
   "metadata": {},
   "outputs": [],
   "source": [
    "list_drink = [\"솔의 눈\",\"데자와\",\"닥터페퍼\",\"ZICO\"]\n",
    "print(\"원본 :\",list_drink)\n",
    "list_copy = list_drink # 얕은 복사 (주소만 복사)\n",
    "print(\"복사본 : \",list_copy)\n",
    "list_copy[1] = \"실론티\"\n",
    "print(\"복사본 : \",list_copy)\n",
    "\n",
    "print(\"원본 :\",list_drink)\n",
    "\n",
    "# 작업을 할 때 원본을 복사해서 작업 > 양식의 원본은 그대로 두고 함\n",
    "# 복사본에서 작업을 했더니 원본에 영향이 갔음\n",
    "# list_copy가 원본의 주소를 바라보게함 (한집에 두 열쇠)\n",
    "\n",
    "# 깊은 복사\n",
    "list_copy2 = list_drink.copy() # 깊은 복사(주소 따로, 값 복사 -> 새로이 저장공간이 하나 더생기게 됨)\n",
    "# copy2 내용이 변경 되더라도 원본에 영향 x \n",
    "print(\"원본 :\",list_drink)\n",
    "print(\"복사본2 : \",list_copy2)\n",
    "list_copy2[3] = \"아침햇살\"\n",
    "print(\"복사본2 : \",list_copy2)\n",
    "print(\"원본 :\",list_drink)"
   ]
  },
  {
   "cell_type": "code",
   "execution_count": null,
   "id": "cbff1682-a30d-4487-8292-d7c8503046a2",
   "metadata": {},
   "outputs": [],
   "source": [
    "df_tt = df_titanic # 얕은 복사 \n",
    "# df_tt 의 내용변경 -> 원본까지 영향\n",
    "df_tt2= df_titanic.copy() # 깊은 복사 원본에 영향 x \n",
    "\n",
    "# 이상치, 결측치 내일 (09/09진행)"
   ]
  },
  {
   "cell_type": "code",
   "execution_count": null,
   "id": "6fefc8a3-0357-41b8-8ad4-81c729390625",
   "metadata": {},
   "outputs": [],
   "source": [
    "# 시각화 (Visualization)\n",
    "# matplotlib\n",
    "import matplotlib.pyplot as plt\n",
    "\n",
    "# 선 그래프 : Line-plot\n",
    "plt.figure(figsize=(8,3)) #크기 정하기\n",
    "x = [1,2,3,4,5]\n",
    "y = [10,20,30,35,40]\n",
    "plt.xlabel(\"study time(hour)\")\n",
    "plt.ylabel(\"python score\")\n",
    "plt.title(\"python score by study time\")\n",
    "plt.grid(True)\n",
    "plt.plot(x,y,marker = \"o\",color=\"red\",linestyle=\"--\") # marker = \"o\",\"s\",\"^\",...\n",
    "# plt.legend() # 범례\n",
    "plt.show()"
   ]
  },
  {
   "cell_type": "code",
   "execution_count": null,
   "id": "1e8ff744-1668-4a80-b503-2aa829cb31cf",
   "metadata": {},
   "outputs": [],
   "source": [
    "# 막대 그래프 : Bar Plot\n",
    "categories = [\"A\",\"B\",\"C\",\"D\"]\n",
    "values = [15,22,30,18]\n",
    "plt.figure(figsize=(6,3))\n",
    "plt.bar(categories,values)\n",
    "plt.show()"
   ]
  },
  {
   "cell_type": "code",
   "execution_count": null,
   "id": "f587d9d5-de5e-487a-bb8e-d885e7b1d467",
   "metadata": {},
   "outputs": [],
   "source": [
    "# 포켓몬 세대별 Total 평균\n",
    "x_pokemon = df_pokemon[\"Generation\"].unique()\n",
    "x_pokemon\n",
    "y_pokemon = df_pokemon.groupby(\"Generation\")[\"Total\"].mean()\n",
    "\n",
    "plt.figure(figsize=(6,4))\n",
    "plt.bar(x_pokemon,y_pokemon)\n",
    "plt.show()"
   ]
  },
  {
   "cell_type": "code",
   "execution_count": null,
   "id": "0961b89a-e60c-4aee-9276-07045e8612cb",
   "metadata": {},
   "outputs": [],
   "source": [
    "# 포켓몬 Type 1 별 Total 평균을 막대그래프(Bar Plot)로 출력\n",
    "x_pokemon1 = df_pokemon[\"Type 1\"].unique()\n",
    "y_pokemon1 = df_pokemon.groupby(\"Type 1\")[\"Total\"].mean()\n",
    "\n",
    "plt.figure(figsize=(20,4))\n",
    "plt.bar(x_pokemon1,y_pokemon1)\n",
    "plt.show()\n",
    "# 글씨조정하려면 다른 라이브러리를 가져오는게 낫다\n",
    "\n"
   ]
  },
  {
   "cell_type": "code",
   "execution_count": null,
   "id": "11759fc9-fb36-444f-9277-d9a7f31a3e90",
   "metadata": {},
   "outputs": [],
   "source": [
    "# 파이차트 (Pie Chart)\n",
    "# 포켓몬의 레전더리 유무\n",
    "legend_count = df_pokemon[\"Legend\"].value_counts()\n",
    "plt.figure(figsize=(5,4))\n",
    "plt.pie(legend_count, labels = legend_count.index, autopct =\"%.3f%%\",startangle=90) #%%를 써야됨 1개는 기능\n",
    "# 인덱스 0/1 , 퍼센트표시, 시작각도\n",
    "plt.show()\n"
   ]
  },
  {
   "cell_type": "code",
   "execution_count": null,
   "id": "7fd1b28c-874a-4d73-8350-872cf5098664",
   "metadata": {},
   "outputs": [],
   "source": [
    "# 산점도 (Scatter Plot)\n",
    "\n",
    "# 키, 몸무게 데이터(가상)\n",
    "np.random.seed(41) # 재현성을 위해 시드 고정 (시드가 고정되면 한 시드내에서 랜덤으로 나오는 순서가 정해져있음)\n",
    "height = np.random.normal(172,12,100) # 평균172, 표준편차 12, 100개 데이터\n",
    "weight = height - 110 + np.random.normal(0,5,100)\n",
    "plt.figure(figsize=(6,4))\n",
    "plt.xlabel(\"height (cm)\")\n",
    "plt.ylabel(\"weight (kg)\")\n",
    "plt.scatter(height,weight,c=weight, s=50, alpha=0.7) # 색, 점 크기, 투명도\n",
    "plt.show()"
   ]
  },
  {
   "cell_type": "code",
   "execution_count": null,
   "id": "e1b7045a-3455-4ac6-9403-e3dc11deb7ea",
   "metadata": {},
   "outputs": [],
   "source": [
    "# 히스토그램 (Histogram)\n",
    "data2 = np.random.randn(1000) # 정규분포를 따르는 데이터 1000개\n",
    "plt.figure(figsize=(6,4))\n",
    "plt.hist(data2,edgecolor=\"black\", bins= 30) # bins = 구간 수 \n",
    "plt.show()"
   ]
  },
  {
   "cell_type": "code",
   "execution_count": null,
   "id": "97071589-2c5c-4097-804f-a72b60d627e1",
   "metadata": {},
   "outputs": [],
   "source": [
    "#plt.show()\n",
    "#여러개의 plot를 보고 싶을 때\n",
    "#subplot을 사용\n",
    "fig,axes = plt.subplots(2,2,figsize=(10,10)) # 튜플 형태로 받음\n",
    "axes[0,0].bar(x_pokemon1,y_pokemon1)\n",
    "axes[0,1].pie(legend_count, labels = legend_count.index, autopct =\"%.3f%%\",startangle=90)\n",
    "axes[1,0].scatter(height,weight,c=weight, s=50, alpha=0.7)\n",
    "axes[1,1].hist(data2,edgecolor=\"black\", bins= 30)\n"
   ]
  },
  {
   "cell_type": "code",
   "execution_count": null,
   "id": "a9033715-61d1-44b3-942a-276d3e9a28b3",
   "metadata": {},
   "outputs": [],
   "source": [
    "# 오늘의 목표 이런것들을 한번 들어봤다 정도로 알기"
   ]
  },
  {
   "cell_type": "code",
   "execution_count": null,
   "id": "34521db9-2985-4c22-83cb-6b30747b85c8",
   "metadata": {},
   "outputs": [],
   "source": []
  },
  {
   "cell_type": "code",
   "execution_count": null,
   "id": "e8f29f68-7390-43e8-ba31-6dc00f686ae9",
   "metadata": {},
   "outputs": [],
   "source": []
  },
  {
   "cell_type": "code",
   "execution_count": null,
   "id": "795dec1b-e920-4c97-afb7-b39a64a1499b",
   "metadata": {},
   "outputs": [],
   "source": []
  }
 ],
 "metadata": {
  "kernelspec": {
   "display_name": "Python 3 (ipykernel)",
   "language": "python",
   "name": "python3"
  },
  "language_info": {
   "codemirror_mode": {
    "name": "ipython",
    "version": 3
   },
   "file_extension": ".py",
   "mimetype": "text/x-python",
   "name": "python",
   "nbconvert_exporter": "python",
   "pygments_lexer": "ipython3",
   "version": "3.9.23"
  }
 },
 "nbformat": 4,
 "nbformat_minor": 5
}
