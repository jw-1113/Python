{
 "cells": [
  {
   "cell_type": "markdown",
   "id": "449a0522-922e-4a6b-933f-bca3848352b9",
   "metadata": {},
   "source": [
    "# 인공지능 프로그래밍"
   ]
  },
  {
   "cell_type": "code",
   "execution_count": 4,
   "id": "8bfbf4a6-2ff5-4e06-af0f-4f697004a18e",
   "metadata": {},
   "outputs": [
    {
     "name": "stdout",
     "output_type": "stream",
     "text": [
      "Hello World!!\n"
     ]
    }
   ],
   "source": [
    "print(\"Hello World!!\")"
   ]
  },
  {
   "cell_type": "code",
   "execution_count": 1,
   "id": "732fe152-abba-40fb-8750-c475dc274ae3",
   "metadata": {},
   "outputs": [
    {
     "ename": "NameError",
     "evalue": "name 'num1' is not defined",
     "output_type": "error",
     "traceback": [
      "\u001b[1;31m---------------------------------------------------------------------------\u001b[0m",
      "\u001b[1;31mNameError\u001b[0m                                 Traceback (most recent call last)",
      "Cell \u001b[1;32mIn[1], line 1\u001b[0m\n\u001b[1;32m----> 1\u001b[0m \u001b[38;5;28mprint\u001b[39m(\u001b[43mnum1\u001b[49m)\n",
      "\u001b[1;31mNameError\u001b[0m: name 'num1' is not defined"
     ]
    }
   ],
   "source": [
    "print(num1)\n",
    "# 변수에 값이 없다."
   ]
  },
  {
   "cell_type": "code",
   "execution_count": 8,
   "id": "09176f19-eaa0-424f-9411-226673fed5a5",
   "metadata": {},
   "outputs": [
    {
     "name": "stdout",
     "output_type": "stream",
     "text": [
      "43\n",
      "17\n",
      "390\n",
      "2.3076923076923075\n"
     ]
    }
   ],
   "source": [
    "num1 = 30\n",
    "num2 = 13\n",
    "\n",
    "print(num1 + num2)\n",
    "print(num1 - num2)\n",
    "print(num1 * num2)\n",
    "print(num1 / num2)"
   ]
  },
  {
   "cell_type": "code",
   "execution_count": 6,
   "id": "003f384e-cf73-4c07-bdb0-b5df534ff25a",
   "metadata": {},
   "outputs": [
    {
     "name": "stdout",
     "output_type": "stream",
     "text": [
      "3\n",
      "-3\n",
      "3.141592\n",
      "Hello\n",
      "Hi\n",
      "True\n",
      "False\n"
     ]
    }
   ],
   "source": [
    "#자료형(Data Tpye)\n",
    "# C -> char, short, int, long\n",
    "\n",
    "print(3) # 정수형\n",
    "print(-3)\n",
    "print(3.141592) # 실수형\n",
    "print(\"Hello\") # 문자열\n",
    "print('Hi')\n",
    "print(True) #논리형\n",
    "print(False)"
   ]
  },
  {
   "cell_type": "code",
   "execution_count": 9,
   "id": "28bea270-b7e2-44c7-b8b3-18fce8b85aac",
   "metadata": {},
   "outputs": [
    {
     "name": "stdout",
     "output_type": "stream",
     "text": [
      "10\n",
      "20\n"
     ]
    }
   ],
   "source": [
    "num3 = 10\n",
    "print(num3)\n",
    "\n",
    "num3 = 20\n",
    "print(num3)"
   ]
  },
  {
   "cell_type": "code",
   "execution_count": 10,
   "id": "e90fe025-b25f-4132-8185-ca47c77f4e34",
   "metadata": {},
   "outputs": [
    {
     "name": "stdout",
     "output_type": "stream",
     "text": [
      "2 20 3.141592 -1.25 3.0 Hello World! Hi Python True False\n"
     ]
    }
   ],
   "source": [
    "#num1 변수에 숫자 2을 대입하시오\n",
    "#num2 변수에 숫자 4를 대입하시오\n",
    "#num2 변수에 숫자 20을 대입하시오\n",
    "#num3 변수에 숫자 3.141592를 대입하시오\n",
    "#num4 변수에 숫자 -1.25를 대입하시오\n",
    "#num5 변수에 숫자 3.0을 대입하시오\n",
    "#str1 변수에 문자열 “Hello World!” 를 대입하시오\n",
    "#str2 변수에 문자열 ‘Hi Python’ 을 대입하시오\n",
    "#bool1 변수에 True를 대입하시오\n",
    "#bool2 변수에 False를 대입하시오\n",
    "\n",
    "num1 = 2\n",
    "num2 = 4\n",
    "num2 = 20\n",
    "num3 = 3.141592\n",
    "num4 = -1.25\n",
    "num5 = 3.0\n",
    "str1 = \"Hello World!\"\n",
    "str2 = 'Hi Python'\n",
    "bool1 = True\n",
    "bool2 = False\n",
    "\n",
    "print(num1, num2, num3, num4, num5, str1, str2, bool1, bool2)"
   ]
  },
  {
   "cell_type": "code",
   "execution_count": 13,
   "id": "5cc2818e-80e1-4030-9c4b-6a4cdd622132",
   "metadata": {},
   "outputs": [
    {
     "name": "stdout",
     "output_type": "stream",
     "text": [
      "10 20\n",
      "['False', 'None', 'True', '__peg_parser__', 'and', 'as', 'assert', 'async', 'await', 'break', 'class', 'continue', 'def', 'del', 'elif', 'else', 'except', 'finally', 'for', 'from', 'global', 'if', 'import', 'in', 'is', 'lambda', 'nonlocal', 'not', 'or', 'pass', 'raise', 'return', 'try', 'while', 'with', 'yield']\n"
     ]
    }
   ],
   "source": [
    "# Variable Naming Rules\n",
    "# 1. 영문자, 숫자, underscore( _ )\n",
    "# - 단, 영문자는 대소문자를 다르게 인식한다.\n",
    "# 문자를 아스키 값으로 인지 ( A : 65, a : 97, 0 : 48 )\n",
    "num = 10\n",
    "Num = 20\n",
    "print(num, Num)\n",
    "\n",
    "# 2. 숫자로 시작할 수 없다.\n",
    "# 1a = 30 ( 값으로 인식하기 때문에)\n",
    "\n",
    "# 3. 키워드(예약어)를 사용할 수 없다.\n",
    "# True = 3\n",
    "\n",
    "# Python에서 사용되는 키워드 목록\n",
    "print(kwlist)\n"
   ]
  },
  {
   "cell_type": "code",
   "execution_count": null,
   "id": "4091fee1-65de-4d8b-a571-c00c6b3226d0",
   "metadata": {},
   "outputs": [],
   "source": [
    "# 필수는 아니지만 권장되는 규칙 (가독성)\n",
    "# 1. 변수의 첫 문자는 소문자로\n",
    "# -> 대문자는 클래스 이름으로 사용됌\n",
    "\n",
    "# 2. 여러 단어를 나열할 경우 표기법을 사용\n",
    "today_lunch_menu = \"제육볶음\" # snake  표기법\n",
    "todayLunchMenu = \"족발\"       # camel 표기법\n",
    "strtoday = \"짬뽕\"             # 형가리안 표기법"
   ]
  },
  {
   "cell_type": "code",
   "execution_count": 15,
   "id": "884f6f1e-e9b9-4caa-a002-9c4f614c6cd4",
   "metadata": {},
   "outputs": [
    {
     "data": {
      "text/plain": [
       "0.5000001943375613"
      ]
     },
     "execution_count": 15,
     "metadata": {},
     "output_type": "execute_result"
    }
   ],
   "source": [
    "import math\n",
    "math.sin(0.523599)"
   ]
  },
  {
   "cell_type": "code",
   "execution_count": 33,
   "id": "24340ea6-7327-41cc-bcd2-3358f9377673",
   "metadata": {},
   "outputs": [
    {
     "name": "stdout",
     "output_type": "stream",
     "text": [
      "True\n",
      "False\n"
     ]
    }
   ],
   "source": [
    "# 소수부분은 근접값으로 저장하여 같지 않다\n",
    "# IEEE 754 double\n",
    "print( 1 + 2 == 3)\n",
    "print( 1.1 + 2.2 == 3.3)"
   ]
  },
  {
   "cell_type": "code",
   "execution_count": 31,
   "id": "7d331c1b-fa5a-4d94-a6ad-a6e6797531b1",
   "metadata": {},
   "outputs": [
    {
     "name": "stdout",
     "output_type": "stream",
     "text": [
      "Collecting numpy\n",
      "  Downloading numpy-2.0.2-cp39-cp39-win_amd64.whl.metadata (59 kB)\n",
      "Downloading numpy-2.0.2-cp39-cp39-win_amd64.whl (15.9 MB)\n",
      "   ---------------------------------------- 0.0/15.9 MB ? eta -:--:--\n",
      "   ------- -------------------------------- 2.9/15.9 MB 14.0 MB/s eta 0:00:01\n",
      "   ----------- ---------------------------- 4.5/15.9 MB 11.7 MB/s eta 0:00:01\n",
      "   --------------- ------------------------ 6.0/15.9 MB 10.3 MB/s eta 0:00:01\n",
      "   ----------------- ---------------------- 6.8/15.9 MB 9.1 MB/s eta 0:00:01\n",
      "   ------------------- -------------------- 7.6/15.9 MB 7.7 MB/s eta 0:00:02\n",
      "   -------------------- ------------------- 8.1/15.9 MB 6.8 MB/s eta 0:00:02\n",
      "   --------------------- ------------------ 8.7/15.9 MB 6.2 MB/s eta 0:00:02\n",
      "   ----------------------- ---------------- 9.4/15.9 MB 5.8 MB/s eta 0:00:02\n",
      "   ------------------------- -------------- 10.0/15.9 MB 5.3 MB/s eta 0:00:02\n",
      "   ------------------------- -------------- 10.2/15.9 MB 5.1 MB/s eta 0:00:02\n",
      "   -------------------------- ------------- 10.5/15.9 MB 4.8 MB/s eta 0:00:02\n",
      "   --------------------------- ------------ 11.0/15.9 MB 4.5 MB/s eta 0:00:02\n",
      "   ---------------------------- ----------- 11.5/15.9 MB 4.2 MB/s eta 0:00:02\n",
      "   ------------------------------ --------- 12.1/15.9 MB 4.1 MB/s eta 0:00:01\n",
      "   ------------------------------ --------- 12.3/15.9 MB 4.0 MB/s eta 0:00:01\n",
      "   ------------------------------- -------- 12.6/15.9 MB 3.8 MB/s eta 0:00:01\n",
      "   -------------------------------- ------- 13.1/15.9 MB 3.7 MB/s eta 0:00:01\n",
      "   --------------------------------- ------ 13.4/15.9 MB 3.6 MB/s eta 0:00:01\n",
      "   ---------------------------------- ----- 13.9/15.9 MB 3.5 MB/s eta 0:00:01\n",
      "   ----------------------------------- ---- 14.2/15.9 MB 3.4 MB/s eta 0:00:01\n",
      "   ------------------------------------ --- 14.4/15.9 MB 3.3 MB/s eta 0:00:01\n",
      "   ------------------------------------ --- 14.7/15.9 MB 3.2 MB/s eta 0:00:01\n",
      "   ------------------------------------ --- 14.7/15.9 MB 3.2 MB/s eta 0:00:01\n",
      "   ------------------------------------- -- 14.9/15.9 MB 3.0 MB/s eta 0:00:01\n",
      "   -------------------------------------- - 15.2/15.9 MB 2.9 MB/s eta 0:00:01\n",
      "   -------------------------------------- - 15.5/15.9 MB 2.9 MB/s eta 0:00:01\n",
      "   ---------------------------------------  15.7/15.9 MB 2.8 MB/s eta 0:00:01\n",
      "   ---------------------------------------- 15.9/15.9 MB 2.7 MB/s  0:00:05\n",
      "Installing collected packages: numpy\n",
      "Successfully installed numpy-2.0.2\n"
     ]
    }
   ],
   "source": [
    "!pip install numpy"
   ]
  },
  {
   "cell_type": "code",
   "execution_count": 30,
   "id": "08e63c7b-892a-4a45-b707-e7b34b621b19",
   "metadata": {},
   "outputs": [
    {
     "data": {
      "text/plain": [
       "33"
      ]
     },
     "execution_count": 30,
     "metadata": {},
     "output_type": "execute_result"
    }
   ],
   "source": [
    "import random\n",
    "random.randint(1,45)"
   ]
  },
  {
   "cell_type": "code",
   "execution_count": 32,
   "id": "ba31fbcb-ade9-409b-87e1-5793fe5c4e16",
   "metadata": {},
   "outputs": [],
   "source": [
    "import numpy"
   ]
  },
  {
   "cell_type": "code",
   "execution_count": null,
   "id": "e80cd60b-906f-4307-90a2-1f8e91825e45",
   "metadata": {},
   "outputs": [],
   "source": []
  },
  {
   "cell_type": "code",
   "execution_count": 42,
   "id": "422ebcd9-2d17-4e90-93e4-2eac38b196b9",
   "metadata": {},
   "outputs": [
    {
     "name": "stdout",
     "output_type": "stream",
     "text": [
      "13\n",
      "7\n",
      "30\n",
      "3.3333333333333335\n",
      "3\n",
      "1\n",
      "HelloWorld!\n",
      "Hi!Hi!Hi!\n",
      "1024\n"
     ]
    }
   ],
   "source": [
    "# 연산자 (operater)\n",
    "# 규칙을 갖는 연산기호\n",
    "# 1. 산술 연산자\n",
    "print(10 + 3)\n",
    "print(10 - 3)\n",
    "print(10 * 3)\n",
    "print(10 / 3)\n",
    "print(10 // 3) # 몫\n",
    "print(10 % 3) # 나머지\n",
    "print(\"Hello\" + \"World!\")\n",
    "print(\"Hi!\"*3)\n",
    "\n",
    "# 지수 연산자\n",
    "print(2 ** 10)"
   ]
  }
 ],
 "metadata": {
  "kernelspec": {
   "display_name": "Python 3 (ipykernel)",
   "language": "python",
   "name": "python3"
  },
  "language_info": {
   "codemirror_mode": {
    "name": "ipython",
    "version": 3
   },
   "file_extension": ".py",
   "mimetype": "text/x-python",
   "name": "python",
   "nbconvert_exporter": "python",
   "pygments_lexer": "ipython3",
   "version": "3.9.23"
  }
 },
 "nbformat": 4,
 "nbformat_minor": 5
}
